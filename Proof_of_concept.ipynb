{
 "cells": [
  {
   "cell_type": "code",
   "execution_count": 1,
   "metadata": {
    "collapsed": false
   },
   "outputs": [],
   "source": [
    "%load_ext autoreload\n",
    "%autoreload 2\n",
    "\n",
    "import seaborn as sns\n",
    "import matplotlib.pyplot as plt\n",
    "%matplotlib inline\n",
    "\n",
    "from sc_query import Corpus\n",
    "from sc_query import QueryWordList\n",
    "from sc_query import QueryAlternatives\n",
    "from sc_query import QueryRegex\n",
    "from sc_query import MarkdownFormater"
   ]
  },
  {
   "cell_type": "markdown",
   "metadata": {},
   "source": [
    "## 1. Loading suttas from suttacentral github image\n",
    "\n",
    "Clone the `suttacentral-data` repository.\n",
    "\n",
    "```bash\n",
    "git clone https://github.com/suttacentral/suttacentral-data.git\n",
    "```\n",
    "\n",
    "Set the `rootdir` variable accordingly.\n"
   ]
  },
  {
   "cell_type": "code",
   "execution_count": 2,
   "metadata": {
    "collapsed": false
   },
   "outputs": [
    {
     "name": "stdout",
     "output_type": "stream",
     "text": [
      "loaded 5739 files, total bytes 28469442\n"
     ]
    }
   ],
   "source": [
    "rootdir = \"/home/datayana/suttacentral-data/text/pi/su\"\n",
    "\n",
    "corpus = Corpus()\n",
    "corpus.load_suttacentral(rootdir)\n",
    "print(\"loaded {} files, total bytes {}\".format(*corpus.count()))"
   ]
  },
  {
   "cell_type": "markdown",
   "metadata": {},
   "source": [
    "## 2. Querying a list of simple keywords\n",
    "\n",
    "Create a query made of just a list of keywords. Function `query_wordlist()` constructs the query by taking a list of keywords."
   ]
  },
  {
   "cell_type": "code",
   "execution_count": 3,
   "metadata": {
    "collapsed": false
   },
   "outputs": [
    {
     "name": "stdout",
     "output_type": "stream",
     "text": [
      "Results found: 20\n"
     ]
    }
   ],
   "source": [
    "kwquery = QueryWordList([\n",
    "            \"anussavena\", \"paramparāya\", \"itikirāya\", \"piṭaka­sam­padā­nena\",\n",
    "            \"takkahetu\", \"nayahetu\", \"ākāra­pari­vitak­kena\", \"diṭṭhi­nij­jhā­nak­khan­tiyā\",\n",
    "            \"bhabbarūpatāya\", \"samaṇo no garū\"        \n",
    "    ])\n",
    "\n",
    "results_kwquery = corpus.search(kwquery, sort=\"score\")\n",
    "print(\"Results found: {}\".format(len(results_kwquery)))"
   ]
  },
  {
   "cell_type": "code",
   "execution_count": 4,
   "metadata": {
    "collapsed": false,
    "scrolled": false
   },
   "outputs": [
    {
     "data": {
      "text/plain": [
       "[('diṭṭhinijjhānakkhantiyā', 36),\n",
       " ('paramparāya', 26),\n",
       " ('ākāraparivitakkena', 23),\n",
       " ('takkahetu', 20),\n",
       " ('nayahetu', 20),\n",
       " ('itikirāya', 19),\n",
       " ('anussavena', 17),\n",
       " ('piṭakasampadānena', 13),\n",
       " ('bhabbarūpatāya', 12),\n",
       " ('samaṇo no garū', 12)]"
      ]
     },
     "execution_count": 4,
     "metadata": {},
     "output_type": "execute_result"
    }
   ],
   "source": [
    "results_kwquery.get_all_labels('*')\n"
   ]
  },
  {
   "cell_type": "code",
   "execution_count": 5,
   "metadata": {
    "collapsed": false
   },
   "outputs": [
    {
     "name": "stdout",
     "output_type": "stream",
     "text": [
      "# Access to knowledge (simple keywords)\n",
      "\n",
      "## Occurence of each keyword\n",
      "\n",
      "| occ | expression |\n",
      "| :-- | :-- |\n",
      "| 36 | diṭṭhinijjhānakkhantiyā |\n",
      "| 26 | paramparāya |\n",
      "| 23 | ākāraparivitakkena |\n",
      "| 20 | takkahetu |\n",
      "| 20 | nayahetu |\n",
      "| 19 | itikirāya |\n",
      "| 17 | anussavena |\n",
      "| 13 | piṭakasampadānena |\n",
      "| 12 | bhabbarūpatāya |\n",
      "| 12 | samaṇo no garū |\n",
      "\n",
      "\n"
     ]
    }
   ],
   "source": [
    "mk = MarkdownFormater()\n",
    "\n",
    "mk.document_title(\"Access to knowledge (simple keywords)\")\n",
    "mk.query_details(kwquery)\n",
    "\n",
    "mk.occurence_table(results_kwquery.get_all_forms(), \"Occurence of each keyword\")\n",
    "\n",
    "print(mk.generate())"
   ]
  },
  {
   "cell_type": "markdown",
   "metadata": {},
   "source": [
    "Generate a full markdown and store it on disk..."
   ]
  },
  {
   "cell_type": "code",
   "execution_count": 6,
   "metadata": {
    "collapsed": false
   },
   "outputs": [],
   "source": [
    "mk = MarkdownFormater()\n",
    "\n",
    "mk.document_title(\"Access to knowledge (simple keywords)\")\n",
    "mk.query_details(kwquery)\n",
    "\n",
    "mk.occurence_table(results_kwquery.get_all_forms(), \"Occurence of each keyword\")\n",
    "mk.results_list(results_kwquery)\n",
    "\n",
    "mk.generate_and_write(\"output/test_results-kwlist.md\")"
   ]
  },
  {
   "cell_type": "markdown",
   "metadata": {},
   "source": [
    "## 3. Querying a list of alternatives\n",
    "\n",
    "If each word can be found in multiple variants, create a list of alternatives.\n",
    "\n",
    "Here's how to construct the query:"
   ]
  },
  {
   "cell_type": "code",
   "execution_count": 7,
   "metadata": {
    "collapsed": false
   },
   "outputs": [
    {
     "name": "stdout",
     "output_type": "stream",
     "text": [
      "Results found: 27\n"
     ]
    }
   ],
   "source": [
    "altquery = QueryAlternatives()\n",
    "\n",
    "altquery.add_alternative(\"anussavena\", [\"anussavena\", \"anussavā\", \"itihitihaṃ\", \"itihītihaṃ\"])\n",
    "altquery.add_alternative(\"paramparāya\", [\"paramparāya\"])\n",
    "altquery.add_alternative(\"itikirāya\", [\"itikirāya\", \"itikiriyāya\"])\n",
    "altquery.add_alternative(\"piṭakasampadānena\", [\"piṭakasampadānena\", \"piṭakasampadāya\"])\n",
    "altquery.add_alternative(\"takkahetu\", [\"takkahetu\"])\n",
    "altquery.add_alternative(\"nayahetu\", [\"nayahetu\"])\n",
    "altquery.add_alternative(\"ākāraparivitakkena\", [\"ākāraparivitakkena\", \"ākāraparivitakkā\"])\n",
    "altquery.add_alternative(\"diṭṭhinijjhānakkhantiyā\", [\"diṭṭhinijjhānakkhantiyā\"])\n",
    "altquery.add_alternative(\"bhabbarūpatāya\", [\"bhabbarūpatāya\"])\n",
    "altquery.add_alternative(\"samaṇo no garū\", [\"samaṇo no garū\"])\n",
    "\n",
    "results_altquery = corpus.search(altquery, sort=\"score\")\n",
    "print(\"Results found: {}\".format(len(results_altquery)))"
   ]
  },
  {
   "cell_type": "code",
   "execution_count": 8,
   "metadata": {
    "collapsed": false
   },
   "outputs": [
    {
     "data": {
      "text/plain": [
       "[('anussavena', 53),\n",
       " ('ākāraparivitakkena', 39),\n",
       " ('diṭṭhinijjhānakkhantiyā', 36),\n",
       " ('paramparāya', 26),\n",
       " ('piṭakasampadānena', 23),\n",
       " ('itikirāya', 20),\n",
       " ('takkahetu', 20),\n",
       " ('nayahetu', 20),\n",
       " ('bhabbarūpatāya', 12),\n",
       " ('samaṇo no garū', 12)]"
      ]
     },
     "execution_count": 8,
     "metadata": {},
     "output_type": "execute_result"
    }
   ],
   "source": [
    "results_altquery.get_all_labels('*')"
   ]
  },
  {
   "cell_type": "code",
   "execution_count": 9,
   "metadata": {
    "collapsed": false
   },
   "outputs": [
    {
     "data": {
      "text/plain": [
       "[('diṭṭhinijjhānakkhantiyā', 36),\n",
       " ('paramparāya', 26),\n",
       " ('ākāraparivitakkena', 23),\n",
       " ('takkahetu', 20),\n",
       " ('nayahetu', 20),\n",
       " ('itikirāya', 19),\n",
       " ('anussavā', 18),\n",
       " ('anussavena', 17),\n",
       " ('ākāraparivitakkā', 16),\n",
       " ('itihītihaṃ', 15),\n",
       " ('piṭakasampadānena', 13),\n",
       " ('bhabbarūpatāya', 12),\n",
       " ('samaṇo no garū', 12),\n",
       " ('piṭakasampadāya', 10),\n",
       " ('itihitihaṃ', 3),\n",
       " ('itikiriyāya', 1)]"
      ]
     },
     "execution_count": 9,
     "metadata": {},
     "output_type": "execute_result"
    }
   ],
   "source": [
    "results_altquery.get_all_forms('*')\n"
   ]
  },
  {
   "cell_type": "code",
   "execution_count": 10,
   "metadata": {
    "collapsed": true
   },
   "outputs": [],
   "source": [
    "mk = MarkdownFormater()\n",
    "\n",
    "mk.document_title(\"Access to knowledge (alternatives)\")\n",
    "mk.query_details(altquery)\n",
    "\n",
    "mk.occurence_table(results_altquery.get_all_labels(), \"Occurences of each alternative\")\n",
    "mk.results_list(results_altquery)\n",
    "\n",
    "mk.generate_and_write(\"output/test_results-altlist.md\")"
   ]
  },
  {
   "cell_type": "markdown",
   "metadata": {},
   "source": [
    "### 3.1. Showing co-occurences"
   ]
  },
  {
   "cell_type": "code",
   "execution_count": 11,
   "metadata": {
    "collapsed": false
   },
   "outputs": [
    {
     "name": "stderr",
     "output_type": "stream",
     "text": [
      "/home/jeff/local/anaconda2/envs/datayana/lib/python3.6/site-packages/seaborn/matrix.py:603: ClusterWarning: scipy.cluster: The symmetric non-negative hollow observation matrix looks suspiciously like an uncondensed distance matrix\n",
      "  metric=self.metric)\n"
     ]
    },
    {
     "data": {
      "image/png": "[encoded data removed]",
      "text/plain": [
       "<matplotlib.figure.Figure at 0x7f135e99a438>"
      ]
     },
     "metadata": {},
     "output_type": "display_data"
    }
   ],
   "source": [
    "df_pivot = results_altquery.cooccurence_pivot()\n",
    "\n",
    "rcmd_figsize = (df_pivot.shape[0]+2,df_pivot.shape[1]+2)\n",
    "\n",
    "sns.set(color_codes=True)\n",
    "\n",
    "g = sns.clustermap(df_pivot,\n",
    "                   method=\"complete\", metric=\"jaccard\",\n",
    "                   cmap=\"YlGnBu\",\n",
    "                   figsize=rcmd_figsize)\n",
    "\n",
    "g.savefig(\"output/img/test_matika_knowledge_cooccurences.png\")"
   ]
  },
  {
   "cell_type": "code",
   "execution_count": 12,
   "metadata": {
    "collapsed": true
   },
   "outputs": [],
   "source": [
    "mk = MarkdownFormater()\n",
    "\n",
    "mk.document_title(\"Access to knowledge (alternatives)\")\n",
    "mk.query_details(altquery)\n",
    "\n",
    "mk.occurence_table(results_altquery.get_all_labels(), \"Occurences of each alternative\")\n",
    "mk.figure(\"img/test_matika_cooccurences.png\")\n",
    "mk.results_list(results_altquery)\n",
    "\n",
    "mk.generate_and_write(\"output/test_results-altlist.md\")"
   ]
  },
  {
   "cell_type": "markdown",
   "metadata": {},
   "source": [
    "## 3.2. Test other examples"
   ]
  },
  {
   "cell_type": "code",
   "execution_count": 13,
   "metadata": {
    "collapsed": false
   },
   "outputs": [
    {
     "name": "stdout",
     "output_type": "stream",
     "text": [
      "Results found: 2756\n"
     ]
    }
   ],
   "source": [
    "altquery = QueryAlternatives()\n",
    "altquery.add_alternative(\"dukkha\",   [\"dukkh\"])\n",
    "altquery.add_alternative(\"nirodha\",  [\"nirodh\"])\n",
    "altquery.add_alternative(\"samudaya\", [\"samuday\"])\n",
    "altquery.add_alternative(\"magga\",    [\"magga\"])\n",
    "altquery.add_alternative(\"anicca\",   [\"anicca\"])\n",
    "altquery.add_alternative(\"anatta\",   [\"anatta\"])\n",
    "altquery.add_alternative(\"rupa\",     [\"rūpa\", \"rūpā\"])\n",
    "altquery.add_alternative(\"vedana\",   [\"vedana\", \"vedanā\"])\n",
    "altquery.add_alternative(\"sanna\",    [\"saññā\", \"sañña\"])\n",
    "altquery.add_alternative(\"sankhara\", [\"sankhārā\", \"saṅkhāra\", \"sankhar\", \"sankhār\"])\n",
    "altquery.add_alternative(\"vijnana\",  [\"viññāṇaṃ\", \"viññāṇ\"])\n",
    "\n",
    "results_altquery = corpus.search(altquery, sort=\"score\")\n",
    "print(\"Results found: {}\".format(len(results_altquery)))"
   ]
  },
  {
   "cell_type": "code",
   "execution_count": 14,
   "metadata": {
    "collapsed": false
   },
   "outputs": [
    {
     "name": "stderr",
     "output_type": "stream",
     "text": [
      "/home/jeff/local/anaconda2/envs/datayana/lib/python3.6/site-packages/seaborn/matrix.py:603: ClusterWarning: scipy.cluster: The symmetric non-negative hollow observation matrix looks suspiciously like an uncondensed distance matrix\n",
      "  metric=self.metric)\n"
     ]
    },
    {
     "data": {
      "image/png": "[encoded data removed]",
      "text/plain": [
       "<matplotlib.figure.Figure at 0x7f135a4bfa58>"
      ]
     },
     "metadata": {},
     "output_type": "display_data"
    }
   ],
   "source": [
    "df_pivot = results_altquery.cooccurence_pivot()\n",
    "\n",
    "rcmd_figsize = (df_pivot.shape[0]+2,df_pivot.shape[1]+2)\n",
    "\n",
    "sns.set(color_codes=True)\n",
    "\n",
    "g = sns.clustermap(df_pivot,\n",
    "                   method=\"complete\", metric=\"jaccard\",\n",
    "                   cmap=\"YlGnBu\",\n",
    "                   figsize=rcmd_figsize)\n",
    "\n",
    "g.savefig(\"output/img/test_matikas_cooccurences.png\")"
   ]
  },
  {
   "cell_type": "raw",
   "metadata": {
    "collapsed": false
   },
   "source": [
    "rcmd_figsize = (df_pivot.shape[0]+2,df_pivot.shape[1]+2)\n",
    "\n",
    "sns.set(color_codes=True)\n",
    "\n",
    "import scipy.spatial as sp\n",
    "import scipy.cluster.hierarchy as hc\n",
    "\n",
    "linkage = hc.linkage(sp.distance.squareform(df_pivot), method='average')\n",
    "\n",
    "g = sns.clustermap(df_pivot,\n",
    "                   row_linkage=linkage,\n",
    "                   col_linkage=linkage,\n",
    "                   cmap=\"YlGnBu\",\n",
    "                   figsize=rcmd_figsize\n",
    "                  )\n",
    "\n",
    "g.savefig(\"output/img/test_matikas_fournobletruths.png\")"
   ]
  },
  {
   "cell_type": "markdown",
   "metadata": {
    "collapsed": true
   },
   "source": [
    "## 4. Locating the suttas"
   ]
  },
  {
   "cell_type": "code",
   "execution_count": 15,
   "metadata": {
    "collapsed": false
   },
   "outputs": [
    {
     "name": "stdout",
     "output_type": "stream",
     "text": [
      "Results found: 782\n"
     ]
    }
   ],
   "source": [
    "#location_regex = r\"ekaṃ samayaṃ ([^\\.\\'\\\"\\“\\”\\‘\\’\\?]+) (viharati|carati|caramāno|addhānamaggappaṭipanno)([^\\.]+)(?:[\\.])\"\n",
    "#location_regex = r\"ekaṃ samayaṃ (bhagavā|āyasmā ca [^\\ ]+ āyasmā ca [^\\ ]+ āyasmā ca [^\\ ]+|āyasmā ca [^\\ ]+ āyasmā ca [^\\ ]+|āyasmā ca [^\\ ]+|āyasmā [^\\ ]+|[^\\.\\'\\\"\\“\\”\\‘\\’\\?]+ bhikkhu) ([^\\.\\'\\\"\\“\\”\\‘\\’\\?]+) (viharanti|viharati|carati|caramāno|addhānamaggappaṭipanno)([^\\.]+)(?:[\\.])\"\n",
    "#location_regex = r\"ekaṃ samayaṃ (bhagavā|āyasmā [^\\ ]+|[^\\.\\'\\\"\\“\\”\\‘\\’\\?]+ bhikkh[uū]|[^\\ ]+ āyasmā) ([^\\.\\'\\\"\\“\\”\\‘\\’\\?]+) (viharanti|viharati|carati|caramāno)([^\\.]+)(?:[\\.])\"\n",
    "#location_regex = r\"ekaṃ samayaṃ ((bhagavā)|(āyasmā [^\\ ]+)|(āyasmā ca [^\\ ]+\\ ?)+|([^\\.\\'\\\"\\“\\”\\‘\\’\\?]+ bhikkh[uū])) ([^\\.\\'\\\"\\“\\”\\‘\\’\\?]+) (viharanti|viharati|carati|caramāno)([^\\.]+)\\.\"\n",
    "location_query = QueryRegex(\n",
    "    r\"ekaṃ samayaṃ (bhagavā|āyasmā ca [^\\ ]+ āyasmā ca [^\\ ]+ āyasmā ca [^\\ ]+|āyasmā ca [^\\ ]+ āyasmā ca [^\\ ]+|āyasmā ca [^\\ ]+|āyasmā [^\\ ]+|[^\\.\\'\\\"\\“\\”\\‘\\’\\?]+ bhikkhu) ([^\\.\\'\\\"\\“\\”\\‘\\’\\?]+) (viharanti|viharati|carati|caramāno|addhānamaggappaṭipanno)([^\\.]+)(?:[\\.])\",\n",
    "    group_map={0: '*', 1:'name', 2:'location', 4:'rest'}\n",
    ")\n",
    "\n",
    "results_location = corpus.search(location_query, sort=\"score\")\n",
    "print(\"Results found: {}\".format(len(results_location)))\n"
   ]
  },
  {
   "cell_type": "code",
   "execution_count": 16,
   "metadata": {
    "collapsed": false
   },
   "outputs": [
    {
     "name": "stdout",
     "output_type": "stream",
     "text": [
      "Results found: 639\n"
     ]
    }
   ],
   "source": [
    "#location_regex = r\"ekaṃ samayaṃ ([^\\.\\'\\\"\\“\\”\\‘\\’\\?]+) (viharati|carati|caramāno|addhānamaggappaṭipanno)([^\\.]+)(?:[\\.])\"\n",
    "location_query_2 = QueryRegex(\n",
    "    r\"^(sāvatthi)(yaṃ viharati|nidānaṃ).\",\n",
    "    group_map={1:'location'}\n",
    ")\n",
    "\n",
    "results_location_2 = corpus.search(location_query_2, sort=\"score\")\n",
    "print(\"Results found: {}\".format(len(results_location_2)))\n",
    "\n",
    "results_location.extend(results_location_2)"
   ]
  },
  {
   "cell_type": "code",
   "execution_count": 17,
   "metadata": {
    "collapsed": false,
    "scrolled": true
   },
   "outputs": [],
   "source": [
    "mk = MarkdownFormater()\n",
    "mk.catches_table(results_location.get_all_document_catches(group='location'), \"Located suttas\")\n",
    "#print(mk.generate())"
   ]
  },
  {
   "cell_type": "code",
   "execution_count": 18,
   "metadata": {
    "collapsed": false
   },
   "outputs": [
    {
     "data": {
      "text/plain": [
       "1309"
      ]
     },
     "execution_count": 18,
     "metadata": {},
     "output_type": "execute_result"
    }
   ],
   "source": [
    "selection = results_location.subset(\"[adms]n[0-9]\")\n",
    "len(selection.get_all_docids())"
   ]
  },
  {
   "cell_type": "markdown",
   "metadata": {
    "collapsed": true
   },
   "source": [
    "## 5. \"yaṃ kiñci samudayadhammaṃ sabbaṃ taṃ nirodhadhamma\"\n",
    "\n",
    "### 5.1. Literal query"
   ]
  },
  {
   "cell_type": "code",
   "execution_count": 19,
   "metadata": {
    "collapsed": false
   },
   "outputs": [
    {
     "name": "stdout",
     "output_type": "stream",
     "text": [
      "Results found: 33\n",
      "{'mn56', 'dn21', 'mn147', 'mnd14', 'sn35.121', 'an8.22', 'cnd9', 'cnd16', 'sn35.245', 'dn5', 'cnd8', 'mnd15', 'cnd22', 'cnd23', 'mnd4', 'ud5.3', 'mnd16', 'mil2', 'mnd13', 'mnd11', 'an8.12', 'mn74', 'dn3', 'an8.21', 'cnd12', 'dn14', 'sn35.74', 'cnd20', 'cnd6', 'cnd5', 'mn91', 'sn56.11', 'mnd10'}\n"
     ]
    }
   ],
   "source": [
    "formula_query = QueryWordList([\n",
    "        \"yaṃ kiñci samudayadhammaṃ sabbaṃ taṃ nirodhadhamma\"\n",
    "    ])\n",
    "\n",
    "results = corpus.search(formula_query, sort=\"score\")\n",
    "print(\"Results found: {}\".format(len(results)))\n",
    "\n",
    "print(results.get_all_docids())"
   ]
  },
  {
   "cell_type": "code",
   "execution_count": 20,
   "metadata": {
    "collapsed": true
   },
   "outputs": [],
   "source": [
    "mk = MarkdownFormater()\n",
    "\n",
    "mk.document_title(\"Yaṃ kiñci samudayadhammaṃ sabbaṃ taṃ nirodhadhamma (literal)\")\n",
    "mk.query_details(formula_query)\n",
    "\n",
    "mk.catches_table(results.get_all_document_catches(group='*'), \"Occurences of each form\")\n",
    "mk.results_list(results)\n",
    "\n",
    "mk.generate_and_write(\"output/test_yam-kinci-v1.md\")"
   ]
  },
  {
   "cell_type": "markdown",
   "metadata": {},
   "source": [
    "### 5.2. yaṃ kiñci [...] sabbaṃ taṃ [...]\""
   ]
  },
  {
   "cell_type": "code",
   "execution_count": 21,
   "metadata": {
    "collapsed": false
   },
   "outputs": [
    {
     "name": "stdout",
     "output_type": "stream",
     "text": [
      "Results found: 227\n",
      "{'mnd14', 'dn1', 'mn22', 'dn10', 'ps2.6', 'mil6.4.2', 'an4.196', 'sn45.122', 'sn3.5', 'sn48.34', 'sn35.121', 'sn22.124', 'dn18', 'mil6.3.1', 'sn45.96', 'sn22.82', 'dn5', 'sn22.107', 'dn9', 'sn20.1', 'sn22.59', 'mn102', 'mil5.1.2', 'sn48.6', 'an4.8', 'cnd7', 'pe2', 'ne37', 'cnd23', 'mil6.1.4', 'mn119', 'sn22.47', 'ne13', 'ud5.3', 'iti72', 'mil2', 'thi-ap29', 'mnd13', 'mil5.1.6', 'sn51.6', 'sn14.37', 'mn75', 'sn45.110', 'mn28', 'an10.95', 'an5.121', 'an8.8', 'dn3', 'sn45.141', 'sn14.38', 'dn14', 'snp2.12', 'mil6.4.1', 'snp5.4', 'ja506', 'mil3.1.14', 'mn39', 'ps3.11', 'cnd5', 'sn56.5', 'sn17.27', 'snp4.4', 'mil3.7.14', 'sn3.4', 'sn45.104', 'mn56', 'mn147', 'an10.15', 'sn41.10', 'mn66', 'mil5.1.1', 'sn18.21', 'sn35.245', 'thag16.1', 'sn23.6', 'sn17.25', 'cnd22', 'ps3.10', 'mn52', 'sn12.66', 'ja535', 'an11.16', 'an5.100', 'ps3.2', 'sn2.8', 'sn42.11', 'sn7.18', 'sn22.48', 'ja511', 'ja522', 'ja519', 'mil5.2.5', 'dhp', 'mn34', 'cnd12', 'sn56.24', 'snp4.13', 'sn16.11', 'pe8', 'mil6.3.6', 'sn55.39', 'sn55.6', 'sn35.74', 'mil6.3.9', 'an10.219', 'sn23.5', 'sn44.2', 'sn9.10', 'mil6.1.5', 'ps1.4', 'thag21.1', 'ne11', 'sn51.17', 'pe5', 'sn45.134', 'mil5.1.4', 'ne8', 'mil5.4.6', 'an8.22', 'snp5.6', 'ps1.1', 'ps1.5', 'cnd16', 'cnd9', 'sn48.29', 'an10.93', 'cnd14', 'mn85', 'cnd8', 'an4.24', 'pe6', 'mnd15', 'tha-ap3', 'mn100', 'sn56.6', 'thag4.3', 'sn56.3', 'dn16', 'sn24.71', 'sn45.116', 'sn17.26', 'mn89', 'mnd4', 'ja500', 'sn24.96', 'an3.106', 'sn12.70', 'mil5.4.9', 'sn22.95', 'iti27', 'sn22.89', 'mn13', 'sn56.26', 'mil6.1.3', 'sn46.7', 'ja547', 'an4.181', 'mil5.3.9', 'kp6', 'sn22.49', 'mil7.3.8', 'cnd6', 'sn45.146', 'mn91', 'sn56.4', 'sn12.30', 'sn22.91', 'dn21', 'mil5.1.9', 'snp2.14', 'an6.53', 'mn36', 'mn11', 'ja534', 'sn36.11', 'cnd19', 'tha-ap1', 'sn45.128', 'mn38', 'mn136', 'sn36.27', 'sn22.125', 'sn1.39', 'mn88', 'pe1', 'sn45.98', 'ps3.1', 'dn34', 'sn36.28', 'mn109', 'snp3.6', 'snp4.14', 'mil7.6.4', 'sn22.71', 'sn18.22', 'sn22.79', 'ja541', 'ja461', 'sn22.92', 'mn121', 'mnd16', 'mil6.3.11', 'ja540', 'sn22.102', 'mnd11', 'an8.12', 'cnd2', 'dn2', 'mn74', 'ud5.2', 'dn4', 'an8.21', 'sn12.32', 'mn140', 'mn151', 'sn22.72', 'pe4', 'mil7.2.5', 'snp2.1', 'sn22.108', 'cnd20', 'mnd9', 'mn62', 'sn56.11', 'mnd10', 'an3.133', 'mn35'}\n"
     ]
    }
   ],
   "source": [
    "#formula_reg = r\"(ya|yā|ye)([^\\.\\'\\\"\\“\\”\\‘\\’\\?]+)(kiñci|kāci|keci)([^\\.\\'\\\"\\“\\”\\‘\\’\\?]+)sabbaṃ([^\\:\\.\\'\\\"\\“\\”\\‘\\’\\?]+)[\\:\\.\\'\\\"\\“\\”\\‘\\’\\?]\"\n",
    "#formula_reg = r\"((ya|yā|ye)([^\\.\\'\\\"\\“\\”\\‘\\’\\?\\;]+)(kiñci|kāci|keci)([^\\.\\'\\\"\\“\\”\\‘\\’\\?]+)sabb[aā]([^\\:\\.\\'\\\"\\“\\”\\‘\\’\\?]+))(?:[\\:\\.\\'\\\"\\“\\”\\‘\\’\\?])\"\n",
    "#formula_reg = r\"((ya|yā|ye)([^\\.\\'\\\"\\“\\”\\‘\\’\\?\\;]+)(ki[ñnñ]ci|kāci|keci)([^\\.\\'\\\"\\“\\”\\‘\\’\\?]+)(sabb[aā] |taṃ )([^\\:\\.\\'\\\"\\“\\”\\‘\\’\\?]+))(?:[\\:\\.\\'\\\"\\“\\”\\‘\\’\\?])\"\n",
    "\n",
    "yam_kinci_query = QueryRegex(\n",
    "    r\"((ya|yā|ye)([^\\.\\'\\\"\\“\\”\\‘\\’\\?\\;]+)(ki[ñnñ]ci|kāci|keci)([^\\.\\'\\\"\\“\\”\\‘\\’\\?]+)(sabb[aā] |taṃ )([^\\:\\.\\'\\\"\\“\\”\\‘\\’\\?]+))(?:[\\:\\.\\'\\\"\\“\\”\\‘\\’\\?])\",\n",
    "    group_map={1: '*'}\n",
    ")\n",
    "\n",
    "results = corpus.search(yam_kinci_query)\n",
    "print(\"Results found: {}\".format(len(results)))\n",
    "print(results.get_all_docids())\n",
    "\n",
    "mk = MarkdownFormater()\n",
    "\n",
    "mk.document_title(\"Yaṃ kiñci ... sabbaṃ taṃ ... (regex)\")\n",
    "mk.query_details(formula_query)\n",
    "\n",
    "mk.catches_table(results.get_all_document_catches(group='*'), \"Occurences of each form\")\n",
    "mk.results_list(results)\n",
    "\n",
    "mk.generate_and_write(\"output/test_yam-kinci-regex-v2.md\")"
   ]
  },
  {
   "cell_type": "markdown",
   "metadata": {},
   "source": [
    "### 5.3. [...] samudayadhammaṃ [...] nirodhadhamma"
   ]
  },
  {
   "cell_type": "code",
   "execution_count": 22,
   "metadata": {
    "collapsed": false
   },
   "outputs": [
    {
     "name": "stdout",
     "output_type": "stream",
     "text": [
      "Results found: 36\n",
      "{'mn56', 'dn21', 'mn147', 'mnd14', 'ps2.6', 'sn35.121', 'an8.22', 'cnd9', 'cnd16', 'sn35.245', 'dn5', 'cnd8', 'mnd15', 'cnd22', 'cnd23', 'mnd4', 'ud5.3', 'mil2', 'mnd16', 'mnd13', 'mnd11', 'an8.12', 'mn74', 'dn3', 'an8.21', 'cnd12', 'sn56.11', 'dn14', 'sn35.74', 'cnd20', 'cnd6', 'cnd5', 'mn91', 'mnd9', 'mnd10', 'cnd14'}\n"
     ]
    }
   ],
   "source": [
    "yam_kinci_query = QueryRegex(\n",
    "    #r\"([^\\:\\.\\'\\\"\\“\\”\\‘\\’\\?]+samudayadhamma([^\\:\\.\\'\\\"\\“\\”\\‘\\’\\?]+)nirodhadhamma([^\\:\\.\\'\\\"\\“\\”\\‘\\’\\?]+))([\\:\\.\\'\\\"\\“\\”\\‘\\’\\?])\",\n",
    "    r\"([^\\:\\.\\'\\\"\\“\\”\\‘\\’\\?]*samuda[^\\:\\.\\'\\\"\\“\\”\\‘\\’\\?]*dhamma[^\\:\\.\\'\\\"\\“\\”\\‘\\’\\?]*nirodh[^\\:\\.\\'\\\"\\“\\”\\‘\\’\\?]*dhamma[^\\ \\:\\.\\'\\\"\\“\\”\\‘\\’\\?]*)\",\n",
    "    group_map={1: '*'}\n",
    ")\n",
    "\n",
    "results = corpus.search(yam_kinci_query)\n",
    "print(\"Results found: {}\".format(len(results)))\n",
    "print(results.get_all_docids())\n",
    "\n",
    "mk = MarkdownFormater()\n",
    "\n",
    "mk.document_title(\"[...] samudayadhammaṃ [...] nirodhadhamma (regex)\")\n",
    "mk.query_details(formula_query)\n",
    "\n",
    "mk.catches_table(results.get_all_document_catches(\n",
    "                    group='*',\n",
    "                    postprocess=lambda x : x.strip().replace(\",\",\"\")\n",
    "                 ))\n",
    "\n",
    "mk.results_list(results)\n",
    "\n",
    "mk.generate_and_write(\"output/test_yam-kinci-regex-v3.md\")"
   ]
  },
  {
   "cell_type": "code",
   "execution_count": null,
   "metadata": {
    "collapsed": true
   },
   "outputs": [],
   "source": []
  }
 ],
 "metadata": {
  "anaconda-cloud": {},
  "kernelspec": {
   "display_name": "Python [conda env:datayana]",
   "language": "python",
   "name": "conda-env-datayana-py"
  },
  "language_info": {
   "codemirror_mode": {
    "name": "ipython",
    "version": 3
   },
   "file_extension": ".py",
   "mimetype": "text/x-python",
   "name": "python",
   "nbconvert_exporter": "python",
   "pygments_lexer": "ipython3",
   "version": "3.6.2"
  }
 },
 "nbformat": 4,
 "nbformat_minor": 1
}
