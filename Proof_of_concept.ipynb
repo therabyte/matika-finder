{
 "cells": [
  {
   "cell_type": "code",
   "execution_count": 1,
   "metadata": {
    "collapsed": true
   },
   "outputs": [],
   "source": [
    "%load_ext autoreload\n",
    "%autoreload 2\n",
    "\n",
    "import seaborn as sns\n",
    "import matplotlib.pyplot as plt\n",
    "%matplotlib inline\n",
    "\n",
    "from sc_query import load_documents\n",
    "from sc_query import search_documentlist\n",
    "from sc_query import result_markdown_formater\n",
    "from sc_query import collect_matika_cooccurences_pivot\n",
    "from sc_query import query_keywordlist\n",
    "from sc_query import query_regex\n"
   ]
  },
  {
   "cell_type": "markdown",
   "metadata": {},
   "source": [
    "## 1. Loading suttas from suttacentral github image\n",
    "\n",
    "Clone the `suttacentral-data` repository.\n",
    "\n",
    "```bash\n",
    "git clone https://github.com/suttacentral/suttacentral-data.git\n",
    "```\n",
    "\n",
    "Set the `rootdir` variable accordingly.\n"
   ]
  },
  {
   "cell_type": "code",
   "execution_count": 2,
   "metadata": {
    "collapsed": false
   },
   "outputs": [
    {
     "name": "stdout",
     "output_type": "stream",
     "text": [
      "loaded 5739 files, total bytes 28469442\n"
     ]
    }
   ],
   "source": [
    "rootdir = \"/home/jeff/dev/datayana/suttacentral-data/text/pi/su\"\n",
    "\n",
    "docs = load_documents(rootdir)\n",
    "print(\"loaded {} files, total bytes {}\".format(len(docs), sum([len(entry[\"html_content\"]) for entry in docs])))"
   ]
  },
  {
   "cell_type": "markdown",
   "metadata": {},
   "source": [
    "## 2. Querying a list of simple keywords\n",
    "\n",
    "Create a query made of just a list of keywords. Function `query_wordlist()` constructs the query by taking a list of keywords."
   ]
  },
  {
   "cell_type": "code",
   "execution_count": null,
   "metadata": {
    "collapsed": false
   },
   "outputs": [],
   "source": [
    "kwquery = query_keywordlist([\n",
    "            \"anussavena\", \"paramparāya\", \"itikirāya\", \"piṭaka­sam­padā­nena\",\n",
    "            \"takkahetu\", \"nayahetu\", \"ākāra­pari­vitak­kena\", \"diṭṭhi­nij­jhā­nak­khan­tiyā\",\n",
    "            \"bhabbarūpatāya\", \"samaṇo no garū\"        \n",
    "    ])\n",
    "\n",
    "results_kwquery = search_documentlist(kwquery, docs, sort=\"score\")\n",
    "print(\"Results found: {}\".format(len(results_kwquery)))\n"
   ]
  },
  {
   "cell_type": "markdown",
   "metadata": {},
   "source": [
    "Creating a markdown file that shows those results"
   ]
  },
  {
   "cell_type": "code",
   "execution_count": null,
   "metadata": {
    "collapsed": true
   },
   "outputs": [],
   "source": [
    "with open(\"output/test_results-kwlist.md\", \"w\") as ofile:\n",
    "    ofile.write(result_markdown_formater(kwquery, results_kwquery))"
   ]
  },
  {
   "cell_type": "markdown",
   "metadata": {},
   "source": [
    "## 3. Querying a list of alternatives\n",
    "\n",
    "If each word can be found in multiple variants, create a list of alternatives.\n",
    "\n",
    "Here's how to construct the query:"
   ]
  },
  {
   "cell_type": "code",
   "execution_count": null,
   "metadata": {
    "collapsed": false
   },
   "outputs": [],
   "source": [
    "altquery = {\n",
    "    \"alternatives_list\": [\n",
    "        { \"label\": \"anussavena\", \"forms\": [\"anussavena\", \"anussavā\", \"itihitihaṃ\", \"itihītihaṃ\"] },\n",
    "        { \"label\": \"paramparāya\", \"forms\": [\"paramparāya\"] },\n",
    "        { \"label\": \"itikirāya\", \"forms\": [\"itikirāya\", \"itikiriyāya\"] },\n",
    "        { \"label\": \"piṭakasampadānena\", \"forms\": [\"piṭakasampadānena\", \"piṭakasampadāya\"] },\n",
    "        { \"label\": \"takkahetu\", \"forms\": [\"takkahetu\"] },\n",
    "        { \"label\": \"nayahetu\", \"forms\": [\"nayahetu\"] },\n",
    "        { \"label\": \"ākāraparivitakkena\", \"forms\": [\"ākāraparivitakkena\", \"ākāraparivitakkā\"] },\n",
    "        { \"label\": \"diṭṭhinijjhānakkhantiyā\", \"forms\": [\"diṭṭhinijjhānakkhantiyā\"] },\n",
    "        { \"label\": \"bhabbarūpatāya\", \"forms\": [\"bhabbarūpatāya\"] },\n",
    "        { \"label\": \"samaṇo no garū\", \"forms\": [\"samaṇo no garū\"] }\n",
    "    ]\n",
    "}\n",
    "\n",
    "results_altquery = search_documentlist(altquery, docs, sort=\"score\")\n",
    "print(\"Results found: {}\".format(len(results_altquery)))\n",
    "\n",
    "with open(\"output/test_results-altlist.md\", \"w\") as ofile:\n",
    "    ofile.write(result_markdown_formater(altquery, results_altquery))"
   ]
  },
  {
   "cell_type": "markdown",
   "metadata": {},
   "source": [
    "## 4. Showing matika co-occurences"
   ]
  },
  {
   "cell_type": "code",
   "execution_count": null,
   "metadata": {
    "collapsed": false
   },
   "outputs": [],
   "source": [
    "df_pivot = collect_matika_cooccurences_pivot(results_altquery)\n",
    "\n",
    "rcmd_figsize = (df_pivot.shape[0]+2,df_pivot.shape[1]+2)\n",
    "\n",
    "sns.set(color_codes=True)\n",
    "\n",
    "g = sns.clustermap(df_pivot,\n",
    "                   method=\"complete\", metric=\"jaccard\",\n",
    "                   cmap=\"YlGnBu\",\n",
    "                   figsize=rcmd_figsize)\n",
    "\n",
    "g.savefig(\"output/img/test_matika_cooccurences.png\")"
   ]
  },
  {
   "cell_type": "markdown",
   "metadata": {},
   "source": [
    "## 5. Test other examples"
   ]
  },
  {
   "cell_type": "code",
   "execution_count": null,
   "metadata": {
    "collapsed": false
   },
   "outputs": [],
   "source": [
    "from sc_query import collect_matika_cooccurences_counter\n",
    "import pandas as pd\n",
    "\n",
    "altquery = {\n",
    "    \"alternatives_list\": [\n",
    "        { \"label\": \"dukkha\", \"forms\": [\"dukkh\"] },\n",
    "        { \"label\": \"nirodha\", \"forms\": [\"nirodh\"] },\n",
    "        { \"label\": \"samudaya\", \"forms\": [\"samuday\"] },\n",
    "        { \"label\": \"magga\", \"forms\": [\"magga\"] },\n",
    "        { \"label\": \"anicca\", \"forms\": [\"anicca\"] },\n",
    "        { \"label\": \"anatta\", \"forms\": [\"anatta\"] },\n",
    "        { \"label\": \"rupa\", \"forms\": [\"rūpa\", \"rūpā\"] },\n",
    "        { \"label\": \"vedana\", \"forms\": [\"vedana\", \"vedanā\"] },\n",
    "        { \"label\": \"sanna\", \"forms\": [\"saññā\", \"sañña\"] },\n",
    "        { \"label\": \"sankhara\", \"forms\": [\"sankhārā\", \"saṅkhāra\", \"sankhar\", \"sankhār\"] },\n",
    "        { \"label\": \"vijnana\", \"forms\": [\"viññāṇaṃ\", \"viññāṇ\"] }\n",
    "    ]\n",
    "}\n",
    "\n",
    "results_altquery = search_documentlist(altquery, docs, sort=\"score\")\n",
    "print(\"Results found: {}\".format(len(results_altquery)))"
   ]
  },
  {
   "cell_type": "code",
   "execution_count": null,
   "metadata": {
    "collapsed": true
   },
   "outputs": [],
   "source": [
    "import math\n",
    "\n",
    "#df_pivot = collect_matika_cooccurences_pivot(results_altquery,\n",
    "#                                             transform=lambda v : 1 / (1+math.log(v)),\n",
    "#                                             normalize=\"minmax\")\n",
    "\n",
    "df_pivot = collect_matika_cooccurences_pivot(results_altquery)\n",
    "\n",
    "#df_pivot"
   ]
  },
  {
   "cell_type": "code",
   "execution_count": null,
   "metadata": {
    "collapsed": false
   },
   "outputs": [],
   "source": [
    "rcmd_figsize = (df_pivot.shape[0]+2,df_pivot.shape[1]+2)\n",
    "\n",
    "sns.set(color_codes=True)\n",
    "\n",
    "import scipy.spatial as sp\n",
    "import scipy.cluster.hierarchy as hc\n",
    "\n",
    "linkage = hc.linkage(sp.distance.squareform(df_pivot), method='single')\n",
    "\n",
    "g = sns.clustermap(df_pivot,\n",
    "                   row_linkage=linkage,\n",
    "                   col_linkage=linkage,\n",
    "                   figsize=rcmd_figsize)\n",
    "\n",
    "g.savefig(\"output/img/test_matika_fournobletruths.png\")"
   ]
  },
  {
   "cell_type": "markdown",
   "metadata": {
    "collapsed": true
   },
   "source": [
    "### Example: locating the suttas"
   ]
  },
  {
   "cell_type": "code",
   "execution_count": 51,
   "metadata": {
    "collapsed": false
   },
   "outputs": [
    {
     "name": "stdout",
     "output_type": "stream",
     "text": [
      "Results found: 757\n"
     ]
    }
   ],
   "source": [
    "location_regex = r\"ekaṃ samayaṃ ([^\\.\\'\\\"\\“\\”\\‘\\’\\?]+) (viharati|carati|caramāno|addhānamaggappaṭipanno)([^\\.]+)(?:[\\.])\"\n",
    "location_query = query_regex(location_regex, group_map={0: '*', 1:'location', 3:'rest'})\n",
    "\n",
    "full_results_location = search_documentlist(location_query, docs, sort=\"score\")\n",
    "print(\"Results found: {}\".format(len(full_results_location)))\n",
    "\n",
    "#[doc['doc_id'] for doc in full_results_location]\n",
    "#full_results_location[0]\n",
    "with open(\"output/test_locations.md\", \"w\") as ofile:\n",
    "    ofile.write(result_markdown_formater(location_query, full_results_location))\n"
   ]
  },
  {
   "cell_type": "code",
   "execution_count": 34,
   "metadata": {
    "collapsed": false
   },
   "outputs": [
    {
     "name": "stdout",
     "output_type": "stream",
     "text": [
      "dn: 34\n",
      "mn: 152\n",
      "an: 1366\n",
      "sn: 1819\n"
     ]
    }
   ],
   "source": [
    "dn_suttas_ids = []\n",
    "mn_suttas_ids = []\n",
    "an_suttas_ids = []\n",
    "sn_suttas_ids = []\n",
    "\n",
    "for doc in docs:\n",
    "    sc_id = doc[\"dom\"].get(\"id\", None)\n",
    "    if sc_id.startswith(\"dn\"):\n",
    "        dn_suttas_ids.append(sc_id)\n",
    "    if sc_id.startswith(\"mn\") and not sc_id.startswith(\"mnd\"):\n",
    "        mn_suttas_ids.append(sc_id)\n",
    "    if sc_id.startswith(\"an\"):\n",
    "        an_suttas_ids.append(sc_id)\n",
    "    if sc_id.startswith(\"sn\") and not sc_id.startswith(\"snp\"):\n",
    "        sn_suttas_ids.append(sc_id)\n",
    "\n",
    "print(\"dn: {}\".format(len(dn_suttas_ids)))\n",
    "print(\"mn: {}\".format(len(mn_suttas_ids)))\n",
    "print(\"an: {}\".format(len(an_suttas_ids)))\n",
    "print(\"sn: {}\".format(len(sn_suttas_ids)))\n"
   ]
  },
  {
   "cell_type": "code",
   "execution_count": 35,
   "metadata": {
    "collapsed": false
   },
   "outputs": [
    {
     "name": "stdout",
     "output_type": "stream",
     "text": [
      "dn: 34\n",
      "mn: 152\n",
      "an: 195\n",
      "sn: 269\n"
     ]
    }
   ],
   "source": [
    "dn_suttas_located = []\n",
    "mn_suttas_located = []\n",
    "an_suttas_located = []\n",
    "sn_suttas_located = []\n",
    "\n",
    "for doc in full_results_location:\n",
    "    sc_id = doc.get(\"doc_id\", \"\")\n",
    "    if sc_id.startswith(\"dn\"):\n",
    "        dn_suttas_located.append(sc_id)\n",
    "    if sc_id.startswith(\"mn\") and not sc_id.startswith(\"mnd\"):\n",
    "        mn_suttas_located.append(sc_id)\n",
    "    if sc_id.startswith(\"an\"):\n",
    "        an_suttas_located.append(sc_id)\n",
    "    if sc_id.startswith(\"sn\") and not sc_id.startswith(\"snp\"):\n",
    "        sn_suttas_located.append(sc_id)\n",
    "\n",
    "print(\"dn: {}\".format(len(dn_suttas_located)))\n",
    "print(\"mn: {}\".format(len(mn_suttas_located)))\n",
    "print(\"an: {}\".format(len(an_suttas_located)))\n",
    "print(\"sn: {}\".format(len(sn_suttas_located)))"
   ]
  },
  {
   "cell_type": "code",
   "execution_count": 36,
   "metadata": {
    "collapsed": false
   },
   "outputs": [
    {
     "name": "stdout",
     "output_type": "stream",
     "text": [
      "set()\n",
      "set()\n"
     ]
    }
   ],
   "source": [
    "print(set(dn_suttas_ids).difference(set(dn_suttas_located)))\n",
    "print(set(mn_suttas_ids).difference(set(mn_suttas_located)))\n",
    "#print(set(an_suttas_ids).difference(set(an_suttas_located)))"
   ]
  },
  {
   "cell_type": "markdown",
   "metadata": {
    "collapsed": true
   },
   "source": [
    "### Example: \"yaṃ kiñci samuda­ya­dhammaṃ sabbaṃ taṃ nirodhadhamma\""
   ]
  },
  {
   "cell_type": "code",
   "execution_count": null,
   "metadata": {
    "collapsed": false
   },
   "outputs": [],
   "source": [
    "formula_query = query_keywordlist([\n",
    "        \"yaṃ kiñci samuda­ya­dhammaṃ sabbaṃ taṃ nirodhadhamma\"\n",
    "    ])\n",
    "\n",
    "results_formula = search_documentlist(formula_query, docs, sort=\"score\")\n",
    "print(\"Results found: {}\".format(len(results_formula)))\n",
    "\n",
    "with open(\"output/test_yam-kinci.md\", \"w\") as ofile:\n",
    "    ofile.write(result_markdown_formater(formula_query, results_formula))\n",
    "    \n",
    "[doc['doc_id'] for doc in results_formula]"
   ]
  },
  {
   "cell_type": "code",
   "execution_count": null,
   "metadata": {
    "collapsed": false
   },
   "outputs": [],
   "source": [
    "formula_query = query_keywordlist([\n",
    "        \"yaṃ kho kiñci\",\n",
    "        \"yampi hi kiñci\",\n",
    "        \"yā kāci\",\n",
    "        \"yaṃ kiñci\",\n",
    "        \"ye keci\",\n",
    "        \"samudayadhamma\",\n",
    "        \"sabbaṃ taṃ\",\n",
    "        \"nirodhadhamma\"\n",
    "    ])\n",
    "\n",
    "\n",
    "results_formula = search_documentlist(formula_query, docs, sort=\"score\")\n",
    "print(\"Results found: {}\".format(len(results_formula)))\n",
    "\n",
    "dn_results_formula = [\n",
    "    doc for doc in results_formula\n",
    "    if (doc[\"doc_id\"].startswith(\"dn\"))\n",
    "]\n",
    "print(\"DN: {}\".format([doc['doc_id'] for doc in dn_results_formula]))\n",
    "with open(\"output/test_yam-kinci-DN.md\", \"w\") as ofile:\n",
    "    ofile.write(result_markdown_formater(formula_query, dn_results_formula))\n",
    "\n",
    "mn_results_formula = [\n",
    "    doc for doc in results_formula\n",
    "    if (doc[\"doc_id\"].startswith(\"mn\") and not doc[\"doc_id\"].startswith(\"mnd\"))\n",
    "]\n",
    "print(\"MN: {}\".format([doc['doc_id'] for doc in mn_results_formula]))\n",
    "with open(\"output/test_yam-kinci-MN.md\", \"w\") as ofile:\n",
    "    ofile.write(result_markdown_formater(formula_query, mn_results_formula))\n",
    "\n",
    "sn_results_formula = [\n",
    "    doc for doc in results_formula\n",
    "    if (doc[\"doc_id\"].startswith(\"sn\") and not doc[\"doc_id\"].startswith(\"snp\"))\n",
    "]\n",
    "\n",
    "print(\"SN: {}\".format(sorted(\n",
    "    [\n",
    "        (doc['doc_id'])\n",
    "        for doc in sn_results_formula\n",
    "    ]\n",
    ")))\n",
    "\n",
    "with open(\"output/test_yam-kinci-SN.md\", \"w\") as ofile:\n",
    "    ofile.write(result_markdown_formater(formula_query, sn_results_formula))"
   ]
  },
  {
   "cell_type": "code",
   "execution_count": null,
   "metadata": {
    "collapsed": false
   },
   "outputs": [],
   "source": [
    "#formula_reg = r\"(ya|yā|ye)([^\\.\\'\\\"\\“\\”\\‘\\’\\?]+)(kiñci|kāci|keci)([^\\.\\'\\\"\\“\\”\\‘\\’\\?]+)sabbaṃ([^\\:\\.\\'\\\"\\“\\”\\‘\\’\\?]+)[\\:\\.\\'\\\"\\“\\”\\‘\\’\\?]\"\n",
    "formula_reg = r\"(ya|yā|ye)([^\\.\\'\\\"\\“\\”\\‘\\’\\?\\;]+)(kiñci|kāci|keci)([^\\.\\'\\\"\\“\\”\\‘\\’\\?]+)sabbaṃ([^\\.\\'\\\"\\“\\”\\‘\\’\\?]+)(?:[\\.\\'\\\"\\“\\”\\‘\\’\\?])?\"\n",
    "\n",
    "formula_query = query_regex(formula_reg)\n",
    "\n",
    "full_results_formula = search_documentlist(formula_query, docs, sort=\"score\")\n",
    "print(\"Results found: {}\".format(len(full_results_formula)))\n",
    "\n",
    "print(\"Found in {}\".format(sorted([doc[\"doc_id\"] for doc in full_results_formula])))\n",
    "\n",
    "def keep_doc(doc):\n",
    "    if doc[\"doc_id\"].startswith(\"dn\"):\n",
    "        return True\n",
    "    if doc[\"doc_id\"].startswith(\"mn\") and not doc[\"doc_id\"].startswith(\"mnd\"):\n",
    "        return True\n",
    "    if doc[\"doc_id\"].startswith(\"sn\") and not doc[\"doc_id\"].startswith(\"snp\"):\n",
    "        return True\n",
    "    if doc[\"doc_id\"].startswith(\"sn\"):\n",
    "        return True\n",
    "    return False\n",
    "\n",
    "results_formula = [doc for doc in full_results_formula if keep_doc(doc)]\n",
    "\n",
    "print(\"DN,MN,SN,AN({}): {}\".format(\n",
    "    len(results_formula),\n",
    "    sorted([doc[\"doc_id\"] for doc in results_formula])\n",
    "))\n",
    "\n",
    "#for doc in results_formula:\n",
    "#    for catchphrase in doc[\"catch\"]:\n",
    "#        print(\"*** formula in {} :\\n{}\".format(doc[\"doc_id\"], catchphrase))\n",
    "\n",
    "with open(\"output/test_yam-kinci-regex.md\", \"w\") as ofile:\n",
    "    ofile.write(result_markdown_formater(formula_query, sorted(results_formula, key=lambda d : d['doc_id'])))"
   ]
  },
  {
   "cell_type": "code",
   "execution_count": null,
   "metadata": {
    "collapsed": true
   },
   "outputs": [],
   "source": []
  }
 ],
 "metadata": {
  "anaconda-cloud": {},
  "kernelspec": {
   "display_name": "Python [conda env:datayana]",
   "language": "python",
   "name": "conda-env-datayana-py"
  },
  "language_info": {
   "codemirror_mode": {
    "name": "ipython",
    "version": 3
   },
   "file_extension": ".py",
   "mimetype": "text/x-python",
   "name": "python",
   "nbconvert_exporter": "python",
   "pygments_lexer": "ipython3",
   "version": "3.6.2"
  }
 },
 "nbformat": 4,
 "nbformat_minor": 1
}
