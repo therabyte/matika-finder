{
 "cells": [
  {
   "cell_type": "code",
   "execution_count": 1,
   "metadata": {
    "collapsed": false
   },
   "outputs": [],
   "source": [
    "import os\n",
    "from bs4 import BeautifulSoup\n",
    "from collections import Counter"
   ]
  },
  {
   "cell_type": "code",
   "execution_count": 2,
   "metadata": {
    "collapsed": true
   },
   "outputs": [],
   "source": [
    "def text_strip(input_text):\n",
    "    return(input_text.lower().replace(\"­\", \"\"))"
   ]
  },
  {
   "cell_type": "code",
   "execution_count": 3,
   "metadata": {
    "collapsed": true
   },
   "outputs": [],
   "source": [
    "def parse_html_dom(input_html_content):\n",
    "    soup = BeautifulSoup(input_html_content, \"html5lib\")\n",
    "    document = {}\n",
    "    \n",
    "    paragraphs = []\n",
    "    \n",
    "    for tag in soup.findAll('p'):\n",
    "        paragraph_entry = {}\n",
    "        paragraph_entry[\"text\"] = text_strip(tag.text)\n",
    "        paragraph_entry[\"ids\"] = []\n",
    "\n",
    "        #print(tag.renderContents())\n",
    "        for a in tag.find_all('a'):\n",
    "            if (a.get('id') is None) or (a.get('class') is None):\n",
    "                continue\n",
    "            paragraph_entry[\"ids\"].append({'class': a.get('class'),'id': a.get('id')})\n",
    "            \n",
    "        paragraphs.append(paragraph_entry)\n",
    "    \n",
    "    document[\"paragraphs\"] = paragraphs\n",
    "    \n",
    "    for section in soup.findAll('section'):\n",
    "        document[\"class\"] = section.get('class')\n",
    "        document[\"id\"] = section.get('id')\n",
    "\n",
    "    for h1 in soup.findAll('h1'):\n",
    "        document[\"title\"] = h1.text\n",
    "        \n",
    "    return(document)"
   ]
  },
  {
   "cell_type": "code",
   "execution_count": 4,
   "metadata": {
    "collapsed": false
   },
   "outputs": [],
   "source": [
    "def search_document(query, document):\n",
    "    _paragraph_results = []\n",
    "    \n",
    "    _document_score = 0\n",
    "    _document_catch = []\n",
    "    for paragraph in document[\"dom\"][\"paragraphs\"]:\n",
    "        _paragraph_score = 0\n",
    "        _paragraph_catch = []\n",
    "        \n",
    "        if \"keyword_list\" in query:\n",
    "            for kw in query[\"keyword_list\"]:\n",
    "                if kw in paragraph[\"text\"]:\n",
    "                    _paragraph_score += 1\n",
    "                    _document_score += 1\n",
    "                    _paragraph_catch.append(kw)\n",
    "                    _document_catch.append(kw)\n",
    "        elif \"alternatives_list\" in query:\n",
    "            for altkw in query[\"alternatives_list\"]:\n",
    "                for kw in altkw[\"forms\"]:\n",
    "                    if kw in paragraph[\"text\"]:\n",
    "                        _paragraph_score += 1\n",
    "                        _document_score += 1\n",
    "                        _paragraph_catch.append({\"label\": altkw[\"label\"], \"form\" : kw})\n",
    "                        _document_catch.append({\"label\": altkw[\"label\"], \"form\" : kw})\n",
    "            \n",
    "        \n",
    "        if len(_paragraph_catch) > 0:\n",
    "            _result_entry = {\n",
    "                \"doc_reference\" : document[\"file_absolute_path\"],\n",
    "                \"type\" : \"paragraph\",\n",
    "                \"excerpt\" : paragraph[\"text\"],\n",
    "                \"score\" : _paragraph_score,\n",
    "                \"catch\" : _paragraph_catch,\n",
    "                \"ids\" : paragraph.get(\"ids\", [])\n",
    "            }\n",
    "            _paragraph_results.append(_result_entry)\n",
    "            \n",
    "    results = []\n",
    "    if _document_score > 0:\n",
    "        results.append({\n",
    "                \"type\" : \"document\",\n",
    "                \"doc_reference\" : document[\"file_absolute_path\"],\n",
    "                \"doc_id\" : document[\"dom\"].get(\"id\", \"none\"),\n",
    "                \"doc_title\" : document[\"dom\"].get(\"title\", \"no title available\"),\n",
    "                \"score\" : _document_score,\n",
    "                \"catch\" : _document_catch,\n",
    "                \"paragraphs\" : _paragraph_results\n",
    "            })\n",
    "    return(results)"
   ]
  },
  {
   "cell_type": "code",
   "execution_count": 5,
   "metadata": {
    "collapsed": true
   },
   "outputs": [],
   "source": [
    "def load_documents(rootdir):\n",
    "    documents = []\n",
    "\n",
    "    for root, subFolders, files in os.walk(rootdir):\n",
    "        #print(\"{} // {} // {}\".format(root,subFolders,files))\n",
    "        for filename in files:\n",
    "            if filename.endswith(\".html\"):\n",
    "                _html_files_entry = {\n",
    "                    \"relative_root\" : root[len(rootdir):],\n",
    "                    \"file_name\" : filename,\n",
    "                    \"file_absolute_path\" : \"{}/{}\".format(root,filename)\n",
    "                }\n",
    "\n",
    "                with open(_html_files_entry[\"file_absolute_path\"]) as ifile:\n",
    "                    _html_files_entry[\"html_content\"] = ifile.read()\n",
    "                _html_files_entry[\"dom\"] = parse_html_dom(_html_files_entry[\"html_content\"])\n",
    "                documents.append(_html_files_entry)\n",
    "\n",
    "    return(documents)"
   ]
  },
  {
   "cell_type": "code",
   "execution_count": 6,
   "metadata": {
    "collapsed": false
   },
   "outputs": [],
   "source": [
    "def query_keywordlist(kwlist):\n",
    "    return({\n",
    "        \"keyword_list\" : [\n",
    "            text_strip(kw) for kw in kwlist\n",
    "        ]\n",
    "    })\n"
   ]
  },
  {
   "cell_type": "code",
   "execution_count": 17,
   "metadata": {
    "collapsed": false
   },
   "outputs": [],
   "source": [
    "def transform_excerpt(excerpt, query):\n",
    "    _output = excerpt\n",
    "    if \"keyword_list\" in query:\n",
    "        for kw in query[\"keyword_list\"]:\n",
    "            _output = _output.replace(kw, \"**{}**\".format(kw))\n",
    "    elif \"alternatives_list\" in query:\n",
    "        for altkw in query[\"alternatives_list\"]:\n",
    "            for kw in altkw[\"forms\"]:\n",
    "                _output = _output.replace(kw, \"**{}**\".format(kw))\n",
    "    return(_output)\n",
    "\n",
    "def result_markdown_formater(query, results):\n",
    "    _output = []\n",
    "    \n",
    "    for result in results:\n",
    "        _output.append(\"#### {doc_id} - {title} [pali]({url})\\n\".format(\n",
    "                            doc_id = result.get(\"doc_id\",\"noid\").upper(),\n",
    "                            title = result.get(\"doc_title\",\"no title in result\"),\n",
    "                            url = \"https://suttacentral.net/pi/{}/\".format(result[\"doc_id\"])\n",
    "                        ))\n",
    "        _output.append(\"\\n\")\n",
    "\n",
    "        _output.append(\"Matches({}): \".format(len(result[\"catch\"])))\n",
    "        \n",
    "        _suboutput = []\n",
    "        if \"keyword_list\" in query:\n",
    "            for kw in query[\"keyword_list\"]:\n",
    "                if kw in result[\"catch\"]:\n",
    "                    _suboutput.append(\"[{}]\".format(kw))\n",
    "                else:\n",
    "                    _suboutput.append(\"~~[{}]~~\".format(kw))\n",
    "        elif \"alternatives_list\" in query:\n",
    "            _result_labels = [alt[\"label\"] for alt in result[\"catch\"]]\n",
    "            for altkw in query[\"alternatives_list\"]:\n",
    "                if altkw[\"label\"] in _result_labels:\n",
    "                    _suboutput.append(\"[{}]\".format(altkw[\"label\"]))\n",
    "                else:\n",
    "                    _suboutput.append(\"~~[{}]~~\".format(altkw[\"label\"]))\n",
    "                    \n",
    "        _output.append(\", \".join(_suboutput))\n",
    "        _output.append(\"\\n\")\n",
    "        _output.append(\"\\n\")\n",
    "        \n",
    "        for paragraph in result[\"paragraphs\"]:\n",
    "            # todo: id\n",
    "            \n",
    "            _output.append(\"**Paragraph {}**\\n> \".format(paragraph[\"ids\"]))\n",
    "            _output.append(transform_excerpt(paragraph[\"excerpt\"], query))\n",
    "            _output.append(\"\\n\\n\")\n",
    "            \n",
    "        _output.append(\"\\n\")\n",
    "    \n",
    "    return(\"\".join(_output))"
   ]
  },
  {
   "cell_type": "code",
   "execution_count": 8,
   "metadata": {
    "collapsed": false
   },
   "outputs": [
    {
     "name": "stdout",
     "output_type": "stream",
     "text": [
      "loaded 5739 files, total bytes 28469442\n"
     ]
    }
   ],
   "source": [
    "_rootdir = \"/home/jeff/dev/datayana/suttacentral-data/text/pi/su\"\n",
    "\n",
    "_docs = load_documents(_rootdir)\n",
    "print(\"loaded {} files, total bytes {}\".format(len(_docs), sum([len(entry[\"html_content\"]) for entry in _docs])))"
   ]
  },
  {
   "cell_type": "code",
   "execution_count": 9,
   "metadata": {
    "collapsed": false
   },
   "outputs": [
    {
     "name": "stdout",
     "output_type": "stream",
     "text": [
      "Results found: 12\n"
     ]
    }
   ],
   "source": [
    "_global_results = []\n",
    "\n",
    "_query = query_keywordlist([\n",
    "            \"anussavena\", \"paramparāya\", \"itikirāya\", \"piṭaka­sam­padā­nena\",\n",
    "            \"takkahetu\", \"nayahetu\", \"ākāra­pari­vitak­kena\", \"diṭṭhi­nij­jhā­nak­khan­tiyā\",\n",
    "            \"bhabbarūpatāya\", \"samaṇo no garū\"        \n",
    "    ])\n",
    "\n",
    "for doc in _docs:\n",
    "    _global_results.extend(search_document(_query, doc))\n",
    "#_global_results.extend(search_document({\"keyword_list\": [\"ānando\"]}, _docs[0]))\n",
    "\n",
    "_global_results = sorted(_global_results, key=lambda el : -el['score'])\n",
    "print(\"Results found: {}\".format(len(_global_results)))\n",
    "\n",
    "with open(\"results-kwlist.md\", \"w\") as ofile:\n",
    "    ofile.write(result_markdown_formater(_query, _global_results))\n"
   ]
  },
  {
   "cell_type": "code",
   "execution_count": 18,
   "metadata": {
    "collapsed": false
   },
   "outputs": [],
   "source": [
    "_global_results = []\n",
    "\n",
    "_query = {\n",
    "    \"alternatives_list\": [\n",
    "        { \"label\": \"anussavena\", \"forms\": [\"anussavena\", \"anussavā\", \"itihitihaṃ\", \"itihītihaṃ\"] },\n",
    "        { \"label\": \"paramparāya\", \"forms\": [\"paramparāya\"] },\n",
    "        { \"label\": \"itikirāya\", \"forms\": [\"itikirāya\", \"itikiriyāya\"] },\n",
    "        { \"label\": \"piṭakasampadānena\", \"forms\": [\"piṭakasampadānena\", \"piṭakasampadāya\"] },\n",
    "        { \"label\": \"takkahetu\", \"forms\": [\"takkahetu\"] },\n",
    "        { \"label\": \"nayahetu\", \"forms\": [\"nayahetu\"] },\n",
    "        { \"label\": \"ākāraparivitakkena\", \"forms\": [\"ākāraparivitakkena\", \"ākāraparivitakkā\"] },\n",
    "        { \"label\": \"diṭṭhinijjhānakkhantiyā\", \"forms\": [\"diṭṭhinijjhānakkhantiyā\"] },\n",
    "        { \"label\": \"bhabbarūpatāya\", \"forms\": [\"bhabbarūpatāya\"] },\n",
    "        { \"label\": \"samaṇo no garū\", \"forms\": [\"samaṇo no garū\"] }\n",
    "    ]\n",
    "}\n",
    "\n",
    "for doc in _docs:\n",
    "    _global_results.extend(search_document(_query, doc))\n",
    "#_global_results.extend(search_document({\"keyword_list\": [\"ānando\"]}, _docs[0]))\n",
    "\n",
    "_global_results = sorted(_global_results, key=lambda el : -el['score'])\n",
    "\n",
    "with open(\"results-altlist.md\", \"w\") as ofile:\n",
    "    ofile.write(result_markdown_formater(_query, _global_results))"
   ]
  },
  {
   "cell_type": "code",
   "execution_count": null,
   "metadata": {
    "collapsed": true
   },
   "outputs": [],
   "source": []
  }
 ],
 "metadata": {
  "anaconda-cloud": {},
  "kernelspec": {
   "display_name": "Python [conda env:datayana]",
   "language": "python",
   "name": "conda-env-datayana-py"
  },
  "language_info": {
   "codemirror_mode": {
    "name": "ipython",
    "version": 3
   },
   "file_extension": ".py",
   "mimetype": "text/x-python",
   "name": "python",
   "nbconvert_exporter": "python",
   "pygments_lexer": "ipython3",
   "version": "3.6.2"
  }
 },
 "nbformat": 4,
 "nbformat_minor": 1
}
