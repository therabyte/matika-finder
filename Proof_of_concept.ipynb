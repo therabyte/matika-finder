{
 "cells": [
  {
   "cell_type": "code",
   "execution_count": 160,
   "metadata": {
    "collapsed": false
   },
   "outputs": [
    {
     "name": "stdout",
     "output_type": "stream",
     "text": [
      "The autoreload extension is already loaded. To reload it, use:\n",
      "  %reload_ext autoreload\n"
     ]
    }
   ],
   "source": [
    "%load_ext autoreload\n",
    "%autoreload 2\n",
    "\n",
    "import seaborn as sns\n",
    "import matplotlib.pyplot as plt\n",
    "%matplotlib inline\n",
    "\n",
    "from sc_query import Corpus\n",
    "from sc_query import QueryWordList\n",
    "from sc_query import QueryAlternatives\n",
    "from sc_query import QueryRegex\n",
    "from sc_query import MarkdownFormater"
   ]
  },
  {
   "cell_type": "markdown",
   "metadata": {},
   "source": [
    "## 1. Loading suttas from suttacentral github image\n",
    "\n",
    "Clone the `suttacentral-data` repository.\n",
    "\n",
    "```bash\n",
    "git clone https://github.com/suttacentral/suttacentral-data.git\n",
    "```\n",
    "\n",
    "Set the `rootdir` variable accordingly.\n"
   ]
  },
  {
   "cell_type": "code",
   "execution_count": 11,
   "metadata": {
    "collapsed": false
   },
   "outputs": [
    {
     "name": "stdout",
     "output_type": "stream",
     "text": [
      "loaded 5739 files, total bytes 28469442\n"
     ]
    }
   ],
   "source": [
    "rootdir = \"/home/jeff/dev/datayana/suttacentral-data/text/pi/su\"\n",
    "\n",
    "corpus = Corpus()\n",
    "corpus.load_suttacentral(rootdir)\n",
    "print(\"loaded {} files, total bytes {}\".format(*corpus.count()))"
   ]
  },
  {
   "cell_type": "markdown",
   "metadata": {},
   "source": [
    "## 2. Querying a list of simple keywords\n",
    "\n",
    "Create a query made of just a list of keywords. Function `query_wordlist()` constructs the query by taking a list of keywords."
   ]
  },
  {
   "cell_type": "code",
   "execution_count": 101,
   "metadata": {
    "collapsed": false
   },
   "outputs": [
    {
     "name": "stdout",
     "output_type": "stream",
     "text": [
      "Results found: 20\n"
     ]
    }
   ],
   "source": [
    "kwquery = QueryWordList([\n",
    "            \"anussavena\", \"paramparāya\", \"itikirāya\", \"piṭaka­sam­padā­nena\",\n",
    "            \"takkahetu\", \"nayahetu\", \"ākāra­pari­vitak­kena\", \"diṭṭhi­nij­jhā­nak­khan­tiyā\",\n",
    "            \"bhabbarūpatāya\", \"samaṇo no garū\"        \n",
    "    ])\n",
    "\n",
    "results_kwquery = corpus.search(kwquery, sort=\"score\")\n",
    "print(\"Results found: {}\".format(len(results_kwquery)))"
   ]
  },
  {
   "cell_type": "code",
   "execution_count": 103,
   "metadata": {
    "collapsed": false,
    "scrolled": false
   },
   "outputs": [
    {
     "data": {
      "text/plain": [
       "[('diṭṭhinijjhānakkhantiyā', 36),\n",
       " ('paramparāya', 26),\n",
       " ('ākāraparivitakkena', 23),\n",
       " ('takkahetu', 20),\n",
       " ('nayahetu', 20),\n",
       " ('itikirāya', 19),\n",
       " ('anussavena', 17),\n",
       " ('piṭakasampadānena', 13),\n",
       " ('bhabbarūpatāya', 12),\n",
       " ('samaṇo no garū', 12)]"
      ]
     },
     "execution_count": 103,
     "metadata": {},
     "output_type": "execute_result"
    }
   ],
   "source": [
    "results_kwquery.get_all_labels('*')\n"
   ]
  },
  {
   "cell_type": "code",
   "execution_count": 162,
   "metadata": {
    "collapsed": false
   },
   "outputs": [
    {
     "name": "stdout",
     "output_type": "stream",
     "text": [
      "## All forms\n",
      "\n",
      "| occ | expression |\n",
      "| :-- | :-- |\n",
      "| 36 | diṭṭhinijjhānakkhantiyā | \n",
      "| 26 | paramparāya | \n",
      "| 23 | ākāraparivitakkena | \n",
      "| 20 | takkahetu | \n",
      "| 20 | nayahetu | \n",
      "| 19 | itikirāya | \n",
      "| 17 | anussavena | \n",
      "| 13 | piṭakasampadānena | \n",
      "| 12 | bhabbarūpatāya | \n",
      "| 12 | samaṇo no garū | \n",
      "\n",
      "\n"
     ]
    }
   ],
   "source": [
    "mk = MarkdownFormater()\n",
    "\n",
    "mk.occurence_table(results_kwquery.get_all_forms(), \"All forms\")\n",
    "\n",
    "print(mk.generate())"
   ]
  },
  {
   "cell_type": "markdown",
   "metadata": {},
   "source": [
    "Creating a markdown file that shows those results"
   ]
  },
  {
   "cell_type": "code",
   "execution_count": null,
   "metadata": {
    "collapsed": true
   },
   "outputs": [],
   "source": [
    "with open(\"output/test_results-kwlist.md\", \"w\") as ofile:\n",
    "    ofile.write(result_markdown_formater(kwquery, results_kwquery))"
   ]
  },
  {
   "cell_type": "markdown",
   "metadata": {},
   "source": [
    "## 3. Querying a list of alternatives\n",
    "\n",
    "If each word can be found in multiple variants, create a list of alternatives.\n",
    "\n",
    "Here's how to construct the query:"
   ]
  },
  {
   "cell_type": "code",
   "execution_count": 136,
   "metadata": {
    "collapsed": false
   },
   "outputs": [
    {
     "name": "stdout",
     "output_type": "stream",
     "text": [
      "Results found: 27\n"
     ]
    }
   ],
   "source": [
    "altquery = QueryAlternatives()\n",
    "\n",
    "altquery.add_alternative(\"anussavena\", [\"anussavena\", \"anussavā\", \"itihitihaṃ\", \"itihītihaṃ\"])\n",
    "altquery.add_alternative(\"paramparāya\", [\"paramparāya\"])\n",
    "altquery.add_alternative(\"itikirāya\", [\"itikirāya\", \"itikiriyāya\"])\n",
    "altquery.add_alternative(\"piṭakasampadānena\", [\"piṭakasampadānena\", \"piṭakasampadāya\"])\n",
    "altquery.add_alternative(\"takkahetu\", [\"takkahetu\"])\n",
    "altquery.add_alternative(\"nayahetu\", [\"nayahetu\"])\n",
    "altquery.add_alternative(\"ākāraparivitakkena\", [\"ākāraparivitakkena\", \"ākāraparivitakkā\"])\n",
    "altquery.add_alternative(\"diṭṭhinijjhānakkhantiyā\", [\"diṭṭhinijjhānakkhantiyā\"])\n",
    "altquery.add_alternative(\"bhabbarūpatāya\", [\"bhabbarūpatāya\"])\n",
    "altquery.add_alternative(\"samaṇo no garū\", [\"samaṇo no garū\"])\n",
    "\n",
    "results_altquery = corpus.search(altquery, sort=\"score\")\n",
    "print(\"Results found: {}\".format(len(results_altquery)))"
   ]
  },
  {
   "cell_type": "code",
   "execution_count": 137,
   "metadata": {
    "collapsed": false
   },
   "outputs": [
    {
     "data": {
      "text/plain": [
       "[('anussavena', 53),\n",
       " ('ākāraparivitakkena', 39),\n",
       " ('diṭṭhinijjhānakkhantiyā', 36),\n",
       " ('paramparāya', 26),\n",
       " ('piṭakasampadānena', 23),\n",
       " ('itikirāya', 20),\n",
       " ('takkahetu', 20),\n",
       " ('nayahetu', 20),\n",
       " ('bhabbarūpatāya', 12),\n",
       " ('samaṇo no garū', 12)]"
      ]
     },
     "execution_count": 137,
     "metadata": {},
     "output_type": "execute_result"
    }
   ],
   "source": [
    "results_altquery.get_all_labels('*')"
   ]
  },
  {
   "cell_type": "code",
   "execution_count": 138,
   "metadata": {
    "collapsed": false
   },
   "outputs": [
    {
     "data": {
      "text/plain": [
       "[('diṭṭhinijjhānakkhantiyā', 36),\n",
       " ('paramparāya', 26),\n",
       " ('ākāraparivitakkena', 23),\n",
       " ('takkahetu', 20),\n",
       " ('nayahetu', 20),\n",
       " ('itikirāya', 19),\n",
       " ('anussavā', 18),\n",
       " ('anussavena', 17),\n",
       " ('ākāraparivitakkā', 16),\n",
       " ('itihītihaṃ', 15),\n",
       " ('piṭakasampadānena', 13),\n",
       " ('bhabbarūpatāya', 12),\n",
       " ('samaṇo no garū', 12),\n",
       " ('piṭakasampadāya', 10),\n",
       " ('itihitihaṃ', 3),\n",
       " ('itikiriyāya', 1)]"
      ]
     },
     "execution_count": 138,
     "metadata": {},
     "output_type": "execute_result"
    }
   ],
   "source": [
    "results_altquery.get_all_forms('*')\n"
   ]
  },
  {
   "cell_type": "code",
   "execution_count": null,
   "metadata": {
    "collapsed": true
   },
   "outputs": [],
   "source": [
    "with open(\"output/test_results-altlist.md\", \"w\") as ofile:\n",
    "    ofile.write(result_markdown_formater(altquery, results_altquery))"
   ]
  },
  {
   "cell_type": "markdown",
   "metadata": {},
   "source": [
    "## 4. Showing matika co-occurences"
   ]
  },
  {
   "cell_type": "code",
   "execution_count": 139,
   "metadata": {
    "collapsed": false
   },
   "outputs": [
    {
     "name": "stderr",
     "output_type": "stream",
     "text": [
      "/home/jeff/local/anaconda2/envs/datayana/lib/python3.6/site-packages/seaborn/matrix.py:603: ClusterWarning: scipy.cluster: The symmetric non-negative hollow observation matrix looks suspiciously like an uncondensed distance matrix\n",
      "  metric=self.metric)\n"
     ]
    },
    {
     "data": {
      "image/png": "[encoded data removed]",
      "text/plain": [
       "<matplotlib.figure.Figure at 0x7f0f9f3a1c50>"
      ]
     },
     "metadata": {},
     "output_type": "display_data"
    }
   ],
   "source": [
    "df_pivot = results_altquery.cooccurence_pivot()\n",
    "\n",
    "rcmd_figsize = (df_pivot.shape[0]+2,df_pivot.shape[1]+2)\n",
    "\n",
    "sns.set(color_codes=True)\n",
    "\n",
    "g = sns.clustermap(df_pivot,\n",
    "                   method=\"complete\", metric=\"jaccard\",\n",
    "                   cmap=\"YlGnBu\",\n",
    "                   figsize=rcmd_figsize)\n",
    "\n",
    "g.savefig(\"output/img/test_matika_cooccurences.png\")"
   ]
  },
  {
   "cell_type": "markdown",
   "metadata": {},
   "source": [
    "## 5. Test other examples"
   ]
  },
  {
   "cell_type": "code",
   "execution_count": null,
   "metadata": {
    "collapsed": false
   },
   "outputs": [],
   "source": [
    "from sc_query import collect_matika_cooccurences_counter\n",
    "import pandas as pd\n",
    "\n",
    "altquery = {\n",
    "    \"alternatives_list\": [\n",
    "        { \"label\": \"dukkha\", \"forms\": [\"dukkh\"] },\n",
    "        { \"label\": \"nirodha\", \"forms\": [\"nirodh\"] },\n",
    "        { \"label\": \"samudaya\", \"forms\": [\"samuday\"] },\n",
    "        { \"label\": \"magga\", \"forms\": [\"magga\"] },\n",
    "        { \"label\": \"anicca\", \"forms\": [\"anicca\"] },\n",
    "        { \"label\": \"anatta\", \"forms\": [\"anatta\"] },\n",
    "        { \"label\": \"rupa\", \"forms\": [\"rūpa\", \"rūpā\"] },\n",
    "        { \"label\": \"vedana\", \"forms\": [\"vedana\", \"vedanā\"] },\n",
    "        { \"label\": \"sanna\", \"forms\": [\"saññā\", \"sañña\"] },\n",
    "        { \"label\": \"sankhara\", \"forms\": [\"sankhārā\", \"saṅkhāra\", \"sankhar\", \"sankhār\"] },\n",
    "        { \"label\": \"vijnana\", \"forms\": [\"viññāṇaṃ\", \"viññāṇ\"] }\n",
    "    ]\n",
    "}\n",
    "\n",
    "results_altquery = search_documentlist(altquery, docs, sort=\"score\")\n",
    "print(\"Results found: {}\".format(len(results_altquery)))"
   ]
  },
  {
   "cell_type": "code",
   "execution_count": null,
   "metadata": {
    "collapsed": true
   },
   "outputs": [],
   "source": [
    "import math\n",
    "\n",
    "#df_pivot = collect_matika_cooccurences_pivot(results_altquery,\n",
    "#                                             transform=lambda v : 1 / (1+math.log(v)),\n",
    "#                                             normalize=\"minmax\")\n",
    "\n",
    "df_pivot = collect_matika_cooccurences_pivot(results_altquery)\n",
    "\n",
    "#df_pivot"
   ]
  },
  {
   "cell_type": "code",
   "execution_count": null,
   "metadata": {
    "collapsed": false
   },
   "outputs": [],
   "source": [
    "rcmd_figsize = (df_pivot.shape[0]+2,df_pivot.shape[1]+2)\n",
    "\n",
    "sns.set(color_codes=True)\n",
    "\n",
    "import scipy.spatial as sp\n",
    "import scipy.cluster.hierarchy as hc\n",
    "\n",
    "linkage = hc.linkage(sp.distance.squareform(df_pivot), method='single')\n",
    "\n",
    "g = sns.clustermap(df_pivot,\n",
    "                   row_linkage=linkage,\n",
    "                   col_linkage=linkage,\n",
    "                   figsize=rcmd_figsize)\n",
    "\n",
    "g.savefig(\"output/img/test_matika_fournobletruths.png\")"
   ]
  },
  {
   "cell_type": "markdown",
   "metadata": {
    "collapsed": true
   },
   "source": [
    "## Example: locating the suttas"
   ]
  },
  {
   "cell_type": "code",
   "execution_count": 163,
   "metadata": {
    "collapsed": false
   },
   "outputs": [
    {
     "name": "stdout",
     "output_type": "stream",
     "text": [
      "Results found: 782\n"
     ]
    }
   ],
   "source": [
    "#location_regex = r\"ekaṃ samayaṃ ([^\\.\\'\\\"\\“\\”\\‘\\’\\?]+) (viharati|carati|caramāno|addhānamaggappaṭipanno)([^\\.]+)(?:[\\.])\"\n",
    "#location_regex = r\"ekaṃ samayaṃ (bhagavā|āyasmā ca [^\\ ]+ āyasmā ca [^\\ ]+ āyasmā ca [^\\ ]+|āyasmā ca [^\\ ]+ āyasmā ca [^\\ ]+|āyasmā ca [^\\ ]+|āyasmā [^\\ ]+|[^\\.\\'\\\"\\“\\”\\‘\\’\\?]+ bhikkhu) ([^\\.\\'\\\"\\“\\”\\‘\\’\\?]+) (viharanti|viharati|carati|caramāno|addhānamaggappaṭipanno)([^\\.]+)(?:[\\.])\"\n",
    "#location_regex = r\"ekaṃ samayaṃ (bhagavā|āyasmā [^\\ ]+|[^\\.\\'\\\"\\“\\”\\‘\\’\\?]+ bhikkh[uū]|[^\\ ]+ āyasmā) ([^\\.\\'\\\"\\“\\”\\‘\\’\\?]+) (viharanti|viharati|carati|caramāno)([^\\.]+)(?:[\\.])\"\n",
    "#location_regex = r\"ekaṃ samayaṃ ((bhagavā)|(āyasmā [^\\ ]+)|(āyasmā ca [^\\ ]+\\ ?)+|([^\\.\\'\\\"\\“\\”\\‘\\’\\?]+ bhikkh[uū])) ([^\\.\\'\\\"\\“\\”\\‘\\’\\?]+) (viharanti|viharati|carati|caramāno)([^\\.]+)\\.\"\n",
    "location_query = QueryRegex(\n",
    "    r\"ekaṃ samayaṃ (bhagavā|āyasmā ca [^\\ ]+ āyasmā ca [^\\ ]+ āyasmā ca [^\\ ]+|āyasmā ca [^\\ ]+ āyasmā ca [^\\ ]+|āyasmā ca [^\\ ]+|āyasmā [^\\ ]+|[^\\.\\'\\\"\\“\\”\\‘\\’\\?]+ bhikkhu) ([^\\.\\'\\\"\\“\\”\\‘\\’\\?]+) (viharanti|viharati|carati|caramāno|addhānamaggappaṭipanno)([^\\.]+)(?:[\\.])\",\n",
    "    group_map={0: '*', 1:'name', 2:'location', 4:'rest'}\n",
    ")\n",
    "\n",
    "full_results_location = corpus.search(location_query, sort=\"score\")\n",
    "print(\"Results found: {}\".format(len(full_results_location)))\n"
   ]
  },
  {
   "cell_type": "code",
   "execution_count": 167,
   "metadata": {
    "collapsed": false
   },
   "outputs": [
    {
     "name": "stdout",
     "output_type": "stream",
     "text": [
      "## Located suttas\n",
      "\n",
      "| occ | expression | refs |\n",
      "| :-- | :-- | :-- |\n",
      "| 277 | sāvatthiyaṃ | dn10, dn27, dn30, dn14, dn9, an8.41, an8.43, an8.20, an8.47, an8.45, an8.1, an8.49, an9.11, an9.4, an9.20, an9.1, an9.12, an3.127, an3.21, an3.1, an3.66, an3.70, an3.71, 10, an10.1, an10.91, an10.27, an10.50, an10.51, an10.18, an10.60, an10.71, an10.30, an10.93, an10.75, an10.69, an10.70, 10, an11.1, an4.21, an4.197, an4.67, an4.101, an4.45, an4.190, an4.48, an5.55, an5.171, an5.41, an5.49, an5.1, an5.51, an6.43, an6.1, an6.34, an6.17, an6.37, an6.49, an7.3, an7.1, an7.28, mn42, mn147, mn17, mn145, mn78, mn127, mn113, mn27, mn148, mn132, mn93, mn138, mn134, mn43, mn37, mn25, mn80, mn121, mn137, mn30, mn149, mn111, mn21, mn72, mn8, mn3, mn45, mn62, mn6, mn26, mn87, mn96, mn9, mn23, mn4, mn13, mn146, mn22, mn16, mn19, mn20, mn47, mn99, mn109, mn38, mn2, mn123, mn131, mn118, mn117, mn143, mn64, mn129, mn130, mn115, mn59, mn7, mn5, mn46, mn88, mn120, mn33, mn110, mn86, mn139, mn114, mn28, mn119, mn49, mn107, mn65, mn63, mn135, mn112, mn11, mn102, snp3.10, snp2.4, snp1.6, snp3.3, snp2.7, snp3.12, snp1.7, snp2.14, ps3.9, ps2.10, ps1.4, kp5, ud8.1, ud3.3, ud7.6, ud8.3, ud5.5, ud3.1, ud8.2, ud8.10, ud6.10, ud2.2, ud7.1, ud2.7, ud6.2, ud7.8, ud3.9, ud2.5, ud7.5, ud4.10, ud6.7, ud3.2, ud6.3, ud5.10, ud7.4, ud5.6, ud6.6, ud2.9, ud2.6, ud2.3, ud6.9, ud2.4, ud5.2, ud3.5, ud8.8, ud5.7, ud7.3, ud6.4, ud6.5, ud3.8, ud3.4, ud4.7, ud8.4, ud4.8, ud5.4, ud1.8, ud7.7, ud5.1, ud1.5, ud1.10, ud4.6, ud7.2, sn16.13, sn16.10, sn28.1, sn10.5, sn10.7, sn10.6, sn33.1, sn22.85, sn22.63, sn22.82, sn4.8, sn4.15, sn4.12, sn52.10, sn52.1, sn52.8, sn52.11, sn52.3, sn45.1, sn55.13, sn55.11, sn55.4, sn55.52, sn40.1, sn14.30, sn48.44, sn48.41, sn48.45, sn2.1, sn2.21, sn46.4, sn1.34, sn1.36, sn1.41, sn1.31, sn1.32, sn1.1, sn1.35, sn1.11, sn5.1, sn47.3, sn47.25, sn47.13, sn11.1, sn11.25, sn24.1, sn29.3, sn51.14, sn44.1, sn12.51, sn12.61, sn12.11, sn12.1, sn12.69, sn12.71, sn18.1, sn31.1, sn35.120, sn35.121, sn35.1, sn20.1, sn20.9, sn17.1, sn13.1, sn6.3, sn6.4, sn6.14, sn8.7, sn8.8, sn8.12, sn8.6, sn8.4, sn21.1, sn21.3, sn15.1, sn3.11, sn3.1, 41 |\n",
      "| 127 | rājagahe | dn19, dn25, dn31, dn32, dn2, dn16, an8.7, an8.26, an9.7, an9.8, an9.34, an9.26, an3.64, an3.143, an10.96, an10.86, an11.10, an4.187, an4.68, an4.188, an4.35, an4.183, an4.185, an4.30, an5.32, an6.54, an6.55, an6.57, an6.41, an7.56, an7.22, an7.23, mn108, mn69, mn116, mn61, mn97, mn151, mn125, mn58, mn29, mn77, mn124, mn79, mn144, mn73, mn126, mn133, mn44, mn24, mn55, mn74, mn136, snp3.5, snp3.6, ud4.4, ud5.8, ud3.6, ud5.3, ud6.8, ud1.6, ud4.9, ud8.9, ud3.7, sn16.11, sn28.10, sn10.2, sn10.9, sn10.10, sn10.8, sn10.1, sn10.11, sn22.50, sn22.49, sn22.87, sn22.88, sn4.7, sn4.10, sn4.11, sn4.23, sn4.13, sn4.6, sn4.9, sn7.3, sn7.4, sn7.1, sn7.2, sn7.8, sn55.3, sn19.1, sn14.15, sn48.58, sn2.13, sn2.30, sn56.41, sn56.42, sn42.2, sn42.10, sn46.14, sn46.15, sn46.56, sn46.16, sn1.38, sn1.20, sn47.29, sn11.14, sn11.16, sn12.17, sn12.70, sn35.160, sn35.65, sn35.119, sn35.161, sn35.69, sn35.128, sn35.87, sn35.29, sn35.118, sn17.35, sn6.12, sn6.11, sn8.10, sn8.9, sn36.21, sn21.10, sn15.20, sn15.10 |\n",
      "| 53 | vesāliyaṃ | dn6, an8.70, an8.52, an8.44, an8.53, an8.12, an8.21, an3.74, an3.125, an3.84, an10.47, an10.72, an11.16, an4.193, an4.196, an5.194, an5.44, an5.121, an5.143, an5.195, an5.58, an5.34, an7.21, an7.66, an7.57, mn52, mn36, mn12, mn71, mn35, mn105, ud6.1, sn22.60, sn22.86, sn4.17, sn52.9, sn55.30, sn56.45, sn54.9, sn1.39, sn1.40, sn47.1, sn47.2, sn47.9, sn11.13, sn51.10, sn44.2, sn9.9, sn35.124, sn20.8, sn36.7, sn36.8, sn21.7 |\n",
      "| 35 | sakkesu | dn20, dn29, an8.51, an8.25, an3.73, an10.46, an11.11, an11.12, an11.13, an4.195, an6.21, an6.10, mn14, mn89, mn104, mn101, mn53, mn122, mn142, mn18, sn22.2, sn22.80, sn4.22, sn4.21, sn7.22, sn55.54, sn55.40, sn55.21, sn55.37, sn55.22, sn55.39, sn54.12, sn1.37, sn35.134, sn35.243 |\n",
      "| 31 | kosambiyaṃ | dn7, an8.46, an9.37, an9.42, an3.72, an4.170, an4.159, an4.243, an4.80, an5.106, an5.159, an5.100, an5.170, an7.43, mn128, mn76, mn48, ps2.1, ud4.5, ud7.10, sn22.81, sn48.53, sn48.49, sn56.31, sn46.8, sn51.15, sn35.241, sn35.233, sn35.129, sn35.234, sn35.127 |\n",
      "| 26 | kosalesu cārikaṃ | dn12, dn23, dn3, dn13, an8.86, an3.65, an3.126, an3.63, an3.91, an10.67, an5.180, an5.30, an6.62, an6.18, an6.42, an7.72, mn81, mn150, mn95, mn100, mn60, mn41, ud5.9, ud4.3, sn55.7, sn42.9 |\n",
      "| 25 | bārāṇasiyaṃ | an3.128, an3.15, an6.60, an6.61, mn94, mn141, ps2.6, ps2.7, sn16.12, sn16.2, sn22.122, sn22.127, sn22.59, sn22.128, sn22.123, sn4.5, sn4.4, sn55.53, sn56.11, sn44.5, sn44.4, sn44.6, sn44.3, sn12.67, sn35.232 |\n",
      "| 22 | kosalesu | mn68, snp3.4, ud8.7, sn4.14, sn4.20, sn7.17, sn7.10, sn7.18, sn7.9, sn48.51, sn47.4, sn9.7, sn9.5, sn9.10, sn9.8, sn9.1, sn9.14, sn9.3, sn9.11, sn9.2, sn9.6, sn9.12 |\n",
      "| 14 | uruvelāyaṃ | ud1.4, ud2.1, ud1.2, ud1.1, ud3.10, ud1.3, sn4.3, sn4.24, sn4.2, sn4.1, sn48.57, sn47.18, sn6.1, sn6.2 |\n",
      "| 10 | magadhesu | dn26, dn21, an10.66, an10.65, an5.114, snp1.4, sn10.4, sn4.18, sn7.11, sn38.1 |\n",
      "| 10 | bhaggesu | an8.48, an8.30, an4.55, an6.16, an7.61, mn50, mn15, mn85, sn22.1, sn35.131 |\n",
      "| 9 | nātike | dn18, an8.73, an8.74, an11.9, an6.20, an6.19, an6.59, mn31, sn35.113 |\n",
      "| 8 | kurūsu | dn15, dn22, an10.20, mn75, mn10, mn106, sn12.66, sn12.60 |\n",
      "| 8 | āḷaviyaṃ | an8.23, an8.24, an3.35, snp2.12, snp1.10, sn10.12, sn8.1, sn8.3 |\n",
      "| 7 | nāḷandāyaṃ | dn11, dn28, mn56, sn42.7, sn42.8, sn42.6, sn35.126 |\n",
      "| 7 | campāyaṃ | dn34, an8.10, an10.81, an10.94, an7.52, mn51, sn8.11 |\n",
      "| 7 | vajjīsu | an8.22, an4.1, mn34, sn56.21, sn47.14, sn35.125, sn39.1 |\n",
      "| 7 | sākete | an4.24, an5.144, sn52.4, sn48.43, sn2.18, sn46.6, sn47.26 |\n",
      "| 6 | kusinārāyaṃ | dn17, an3.123, an10.44, an4.76, ud4.2, sn6.15 |\n",
      "| 6 | koliyesu | an8.54, an4.57, an4.194, mn57, sn42.13, sn46.54 |\n",
      "| 5 | gayāyaṃ | an8.64, snp2.5, ud1.9, sn10.3, sn35.28 |\n",
      "| 5 | avantīsu | an10.26, sn22.4, sn22.3, sn35.132, sn35.130 |\n",
      "| 5 | kimilāyaṃ | an5.201, an6.40, an7.59, sn54.10, sn35.242 |\n",
      "| 4 | mallesu | dn24, an9.41, sn48.52, sn42.11 |\n",
      "| 4 | pāṭaliputte | an5.50, sn45.18, sn47.23, sn47.21 |\n",
      "| 3 | magadhesu cārikaṃ | dn5, mn140, ud8.6 |\n",
      "| 3 | mallesu cārikaṃ | dn33, ud8.5, ud7.9 |\n",
      "| 3 | cetīsu | an10.85, an10.24, an6.46 |\n",
      "| 3 | aṅgesu | mn40, mn39, sn48.50 |\n",
      "| 3 | icchānaṅgale | mn98, snp3.9, sn54.11 |\n",
      "| 3 | ñātike | sn55.8, sn14.13, sn12.45 |\n",
      "| 3 | sumbhesu | sn46.30, sn47.19, sn47.20 |\n",
      "| 3 | macchikāsaṇḍe | sn41.7, sn41.5, sn41.6 |\n",
      "| 2 | uruññāyaṃ | dn8, mn90 |\n",
      "| 2 | verañjāyaṃ | an8.11, an8.19 |\n",
      "| 2 | cālikāyaṃ | an9.3, ud4.1 |\n",
      "| 2 | pāvāyaṃ | an10.176, ud1.7 |\n",
      "| 2 | aṅguttarāpesu | mn54, mn66 |\n",
      "| 2 | madhurāyaṃ | mn84, 41 |\n",
      "| 2 | aṅguttarāpesu cārikaṃ | mn92, snp3.7 |\n",
      "| 1 | aṅgesu cārikaṃ | dn4 |\n",
      "| 1 | antarā ca rājagahaṃ antarā ca nāḷandaṃ | dn1 |\n",
      "| 1 | mahisavatthusmiṃ | an8.8 |\n",
      "| 1 | kajaṅgalāyaṃ | an10.28 |\n",
      "| 1 | naḷakapāne | an10.68 |\n",
      "| 1 | antarā ca ukkaṭṭhaṃ antarā ca setabyaṃ | an4.36 |\n",
      "| 1 | antarā ca madhuraṃ antarā ca verañjaṃ | an4.53 |\n",
      "| 1 | bhoganagare | an4.180 |\n",
      "| 1 | bhaddiye | an5.33 |\n",
      "| 1 | gajaṅgalāyaṃ | mn152 |\n",
      "| 1 | mithilāyaṃ | mn83 |\n",
      "| 1 | cātumāyaṃ | mn67 |\n",
      "| 1 | gosiṅgasālavanadāye | mn32 |\n",
      "| 1 | kurūsu cārikaṃ | mn82 |\n",
      "| 1 | videhesu cārikaṃ | mn91 |\n",
      "| 1 | kāsīsu cārikaṃ | mn70 |\n",
      "| 1 | pisinārāyaṃ | mn103 |\n",
      "| 1 | ukkaṭṭhāyaṃ | mn1 |\n",
      "| 1 | kuṇḍikāyaṃ | ud2.8 |\n",
      "| 1 | anupiyāyaṃ | ud2.10 |\n",
      "| 1 | ayujjhāyaṃ | sn22.95 |\n",
      "| 1 | sakyesu | sn45.2 |\n",
      "| 1 | nālandāyaṃ | sn47.12 |\n",
      "| 1 | kaccāno ñātike | sn44.11 |\n",
      "| 1 | āyasmā ca ānando kosambiyaṃ | sn12.68 |\n",
      "| 1 | kāmaṇḍāyaṃ | sn35.133 |\n",
      "| 1 | māgadhesu | sn6.13 |\n",
      "| 1 | varaṇāyaṃ | 41 |\n",
      "\n",
      "\n"
     ]
    }
   ],
   "source": [
    "mk = MarkdownFormater()\n",
    "mk.catches_table(full_results_location.get_all_document_catches(group='location'), \"Located suttas\")\n",
    "\n",
    "print(mk.generate())"
   ]
  },
  {
   "cell_type": "code",
   "execution_count": 122,
   "metadata": {
    "collapsed": false
   },
   "outputs": [
    {
     "data": {
      "text/plain": [
       "675"
      ]
     },
     "execution_count": 122,
     "metadata": {},
     "output_type": "execute_result"
    }
   ],
   "source": [
    "selection = full_results_location.subset(\"[adms]n[0-9]\")\n",
    "len(selection.get_all_docids())"
   ]
  },
  {
   "cell_type": "code",
   "execution_count": null,
   "metadata": {
    "collapsed": false
   },
   "outputs": [],
   "source": [
    "#location_regex = r\"ekaṃ samayaṃ ([^\\.\\'\\\"\\“\\”\\‘\\’\\?]+) (viharati|carati|caramāno|addhānamaggappaṭipanno)([^\\.]+)(?:[\\.])\"\n",
    "location_regex_2 = r\"^(sāvatthiyaṃ viharati|sāvatthinidānaṃ).\"\n",
    "location_query_2 = query_regex(location_regex_2, group_map={0: 'location'})\n",
    "\n",
    "full_results_location_2 = search_documentlist(location_query_2, docs, sort=\"score\")\n",
    "print(\"Results found: {}\".format(len(full_results_location_2)))\n",
    "\n",
    "#[doc['doc_id'] for doc in full_results_location_2]"
   ]
  },
  {
   "cell_type": "code",
   "execution_count": null,
   "metadata": {
    "collapsed": false
   },
   "outputs": [],
   "source": [
    "print(set(dn_suttas_ids).difference(set(dn_suttas_located)))\n",
    "print(set(mn_suttas_ids).difference(set(mn_suttas_located)))\n",
    "#print(set(an_suttas_ids).difference(set(an_suttas_located)))\n",
    "\n",
    "print(set(sn_suttas_ids).difference(set(sn_suttas_located)))\n"
   ]
  },
  {
   "cell_type": "code",
   "execution_count": null,
   "metadata": {
    "collapsed": false
   },
   "outputs": [],
   "source": [
    "ayasma_regex = r\"((āyasmā (ca )?[^\\ \\.\\'\\\"\\“\\”\\‘\\’\\?\\(\\)…\\—]+)|([^\\ \\.\\,\\'\\\"\\“\\”\\‘\\’\\?\\(\\)…\\—]+ bhikkh[uū]))\"\n",
    "ayasma_query = query_regex(ayasma_regex, group_map={1: 'name'})\n",
    "\n",
    "name_results = search_documentlist(ayasma_query, docs, sort=\"score\")\n",
    "print(\"Results found: {}\".format(len(name_results)))\n",
    "\n",
    "names = []\n",
    "for doc in name_results:\n",
    "    names.extend([c.get('name',None) for c in doc['catch']])\n",
    "\n",
    "from collections import Counter\n",
    "Counter(names).most_common(10)"
   ]
  },
  {
   "cell_type": "markdown",
   "metadata": {
    "collapsed": true
   },
   "source": [
    "### Example: \"yaṃ kiñci samuda­ya­dhammaṃ sabbaṃ taṃ nirodhadhamma\""
   ]
  },
  {
   "cell_type": "code",
   "execution_count": 124,
   "metadata": {
    "collapsed": false
   },
   "outputs": [
    {
     "name": "stdout",
     "output_type": "stream",
     "text": [
      "Results found: 33\n"
     ]
    },
    {
     "data": {
      "text/plain": [
       "{'an8.12',\n",
       " 'an8.21',\n",
       " 'an8.22',\n",
       " 'cnd12',\n",
       " 'cnd16',\n",
       " 'cnd20',\n",
       " 'cnd22',\n",
       " 'cnd23',\n",
       " 'cnd5',\n",
       " 'cnd6',\n",
       " 'cnd8',\n",
       " 'cnd9',\n",
       " 'dn14',\n",
       " 'dn21',\n",
       " 'dn3',\n",
       " 'dn5',\n",
       " 'mil2',\n",
       " 'mn147',\n",
       " 'mn56',\n",
       " 'mn74',\n",
       " 'mn91',\n",
       " 'mnd10',\n",
       " 'mnd11',\n",
       " 'mnd13',\n",
       " 'mnd14',\n",
       " 'mnd15',\n",
       " 'mnd16',\n",
       " 'mnd4',\n",
       " 'sn35.121',\n",
       " 'sn35.245',\n",
       " 'sn35.74',\n",
       " 'sn56.11',\n",
       " 'ud5.3'}"
      ]
     },
     "execution_count": 124,
     "metadata": {},
     "output_type": "execute_result"
    }
   ],
   "source": [
    "formula_query = QueryWordList([\n",
    "        \"yaṃ kiñci samuda­ya­dhammaṃ sabbaṃ taṃ nirodhadhamma\"\n",
    "    ])\n",
    "\n",
    "results = corpus.search(formula_query, sort=\"score\")\n",
    "print(\"Results found: {}\".format(len(results)))\n",
    "\n",
    "results.get_all_docids()"
   ]
  },
  {
   "cell_type": "code",
   "execution_count": 127,
   "metadata": {
    "collapsed": false
   },
   "outputs": [
    {
     "name": "stdout",
     "output_type": "stream",
     "text": [
      "Results found: 344\n",
      "{'pv15', 'cnd22', 'ps3.1', 'sn22.126', 'mil6.1.5', 'tha-ap1', 'ja480', 'sn22.59', 'tha-ap430', 'an10.15', 'mn115', 'dn2', 'cp8', 'an6.53', 'mil7.3.8', 'ud5.3', 'mn8', 'dn9', 'sn48.69', 'an7.61', 'sn45.110', 'mil5.1.5', 'ja536', 'cnd19', 'mnd16', 'ne15', 'cnd20', 'sn9.10', 'sn48.67', 'pe8', 'snp2.1', 'mnd15', 'mil6.2.8', 'sn45.128', 'an5.100', 'snp5.9', 'mn147', 'dn23', 'snp2.12', 'vv33', 'snp1.8', 'mil6.3.1', 'an3.61', 'iti112', 'vv6', 'vv4', 'mil3.1.14', 'ja533', 'vv23', 'snp3.12', 'dn3', 'ud5.5', 'sn56.43', 'an8.8', 'an11.17', 'an4.196', 'ja546', 'ja534', 'mil6.3.9', 'mn22', 'ja430', 'ja530', 'sn35.33-42', 'pe2', 'ja535', 'mil2', 'sn46.31', 'sn1.39', 'dn14', 'cnd12', 'vv14', 'cnd9', 'mil5.1.1', 'mn119', 'an10.104', 'dn20', 'dn16', 'ne37', 'ud5.2', 'mn76', 'cnd14', 'sn22.71', 'mn54', 'cnd7', 'mil6.4.1', 'sn12.70', 'mn37', 'pe1', 'sn45.139', 'cnd16', 'an10.219', 'vv10', 'mil5.1.2', 'tha-ap544', 'sn36.21', 'sn35.135', 'bv2', 'snp3.6', 'cnd11', 'sn46.99-110', 'sn22.91', 'cnd10', 'mil5.3.9', 'mn109', 'thig9.1', 'sn12.31', 'sn48.51', 'sn22.72', 'mn62', 'cnd23', 'sn20.1', 'sn20.12', 'mn28', 'tha-ap394', 'ja312', 'cnd8', 'snp4.13', 'sn47.73-84', 'mil6.4.2', 'sn22.92', 'cnd18', 'mn106', 'mil5.5.4', 'sn24.5', 'vv8', 'ps1.2', 'sn47.14', 'vv54', 'pe4', 'iti27', 'ja440', 'sn45.150', 'an8.12', 'sn12.32', 'sn45.98', 'iti108', 'tha-ap562', 'vv15', 'snp2.14', 'ja547', 'ja442', 'sn55.6', 'sn35.246', 'an4.8', 'vv19', 'mil5.4.6', 'cp9', 'mil3.3.5', 'ja470', 'bv3', 'sn44.2', 'an3.133', 'sn46.7', 'cp1', 'cnd4', 'an5.121', 'ud5.7', 'sn22.102', 'mnd4', 'tha-ap42', 'snp5.6', 'mnd13', 'iti40', 'sn46.11', 'ja541', 'an4.24', 'thi-ap31', 'ja429', 'ne8', 'mil3.7.14', 'bv1', 'an10.63', 'pe5', 'mil6.1.6', 'an4.20', 'ja499', 'tha-ap109', 'vv11', 'tha-ap34', 'snp5.1', 'mil6.1.3', 'an4.5', 'sn45.104', 'sn47.9', 'an10.64', 'an4.181', 'snp5.8', 'sn48.70', 'ja257', 'pv14', 'ja519', 'mnd2', 'sn48.55', 'mn52', 'an9.15', 'sn18.21', 'ja511', 'ja545', 'mnd10', 'thag21.1', 'cnd1', 'sn22.21', 'tha-ap18', 'vv12', 'vv85', 'sn16.11', 'ja539', 'sn22.127', 'sn22.48', 'sn45.140', 'sn45.141', 'an3.1', 'ja500', 'mn38', 'sn45.116', 'cnd5', 'pv16', 'sn55.39', 'sn45.149', 'ja543', 'sn22.82', 'an8.21', 'mnd1', 'mnd14', 'mn35', 'pv37', 'sn2.30', 'thi-ap29', 'sn1.37', 'mn66', 'vv7', 'tha-ap37', 'sn18.22', 'sn45.122', 'ud7.9', 'cnd2', 'mil5.1.4', 'sn46.32', 'cp23', 'mil5.1.9', 'snp4.4', 'mil7.2.5', 'sn48.68', 'sn45.146', 'kp6', 'ja540', 'cnd6', 'ne6', 'ja527', 'vv2', 'ps2.6', 'tha-ap3', '596', 'sn22.128', 'dhp', 'mil7.2.9', 'snp4.14', 'vv3', 'snp5.4', 'sn22.125', 'an11.16', 'ne11', 'pv13', 'mn136', 'mil6.2.6', 'sn2.8', 'mil5.1.8', 'sn12.34', 'mil5.4.7', 'ud8.8', 'sn35.121', 'mn107', 'tha-ap393', 'ja514', 'ps3.4', 'sn56.11', 'an8.22', 'mn56', 'dn21', 'mn121', 'sn45.134', '315', 'mil5.4.9', 'vv1', 'mnd8', 'sn22.79', 'dn5', 'mn74', 'mil5.2.5', 'snp5.19', 'kp9', 'mil3.8', 'ja537', 'dn29', 'tha-ap43', 'mnd3', 'sn4.1', 'mil5.1.6', 'ps1.1', 'ne13', 'an4.23', 'mnd9', 'sn49.23-34', 'snp4.2', 'an7.66', 'sn24.96', 'mn91', 'mn65', 'tha-ap402', 'an3.106', 'ja522', 'vv13', 'sn7.18', 'sn24.71', 'mn101', 'sn36.11', 'sn41.10', 'sn35.245', 'sn22.95', 'tha-ap412', 'sn36.2', 'sn42.11', 'thag4.3', 'sn47.13', 'vv9', 'mil3.1.9', 'ja491', 'mil5.3.4', 'snp5.5', 'tha-ap82', 'vv84', '60', 'sn22.124', 'vv18', 'dn19', 'sn35.74', 'mil6.3.6', 'an8.19', 'tha-ap24', 'sn12.20', 'mnd11', 'mn33', 'sn45.96', 'sn22.49'}\n"
     ]
    }
   ],
   "source": [
    "formula_query = QueryWordList([\n",
    "        \"yaṃ kho kiñci\",\n",
    "        \"yampi hi kiñci\",\n",
    "        \"yā kāci\",\n",
    "        \"yaṃ kiñci\",\n",
    "        \"ye keci\",\n",
    "        \"samudayadhamma\",\n",
    "        \"sabbaṃ taṃ\",\n",
    "        \"nirodhadhamma\"\n",
    "    ])\n",
    "\n",
    "results = corpus.search(formula_query, sort=\"score\")\n",
    "print(\"Results found: {}\".format(len(results)))\n",
    "\n",
    "print(results.get_all_docids())"
   ]
  },
  {
   "cell_type": "code",
   "execution_count": 131,
   "metadata": {
    "collapsed": false
   },
   "outputs": [
    {
     "name": "stdout",
     "output_type": "stream",
     "text": [
      "{'sn56.26', 'sn35.121', 'mn88', 'an10.219', 'sn56.6', 'mn100', 'sn45.104', 'sn56.24', 'an4.181', 'sn51.17', 'an10.15', 'sn22.59', 'dn2', 'an6.53', 'sn22.91', 'sn56.11', 'sn17.25', 'an8.22', 'mn56', 'sn14.38', 'mn52', 'sn18.21', 'dn9', 'dn21', 'mn109', 'sn45.110', 'mn151', 'mn121', 'mn140', 'sn45.134', 'sn22.72', 'mn62', 'sn16.11', 'sn20.1', 'sn22.79', 'dn5', 'mn74', 'sn22.48', 'sn23.5', 'sn9.10', 'sn45.141', 'mn38', 'mn28', 'sn45.116', 'dn18', 'sn3.4', 'mn89', 'dn1', 'sn55.39', 'sn22.92', 'sn45.128', 'an5.100', 'mn147', 'sn22.82', 'sn56.4', 'an8.21', 'sn22.107', 'mn35', 'mn13', 'mn66', 'sn23.6', 'sn24.96', 'sn18.22', 'mn102', 'sn12.30', 'sn36.27', 'dn34', 'sn45.122', 'an8.12', 'mn91', 'sn22.89', 'sn17.26', 'dn3', 'sn12.32', 'sn45.98', 'sn36.28', 'an3.106', 'dn10', 'an8.8', 'sn7.18', 'sn48.6', 'sn24.71', 'sn17.27', 'sn55.6', 'sn48.29', 'an4.196', 'an4.8', 'mn11', 'sn45.146', 'sn3.5', 'sn22.47', 'sn36.11', 'mn39', 'mn22', 'sn41.10', 'sn35.245', 'sn22.95', 'sn44.2', 'an3.133', 'sn46.7', 'sn42.11', 'an5.121', 'sn1.39', 'dn14', 'sn22.102', 'mn36', 'sn22.108', 'sn22.124', 'sn51.6', 'sn22.125', 'sn56.3', 'mn75', 'mn119', 'dn4', 'an11.16', 'sn48.34', 'sn56.5', 'sn35.74', 'sn14.37', 'dn16', 'mn136', 'sn12.66', 'sn22.71', 'an4.24', 'sn2.8', 'mn34', 'an10.95', 'an10.93', 'sn12.70', 'sn45.96', 'mn85', 'sn22.49'}\n"
     ]
    }
   ],
   "source": [
    "#formula_reg = r\"(ya|yā|ye)([^\\.\\'\\\"\\“\\”\\‘\\’\\?]+)(kiñci|kāci|keci)([^\\.\\'\\\"\\“\\”\\‘\\’\\?]+)sabbaṃ([^\\:\\.\\'\\\"\\“\\”\\‘\\’\\?]+)[\\:\\.\\'\\\"\\“\\”\\‘\\’\\?]\"\n",
    "#formula_reg = r\"((ya|yā|ye)([^\\.\\'\\\"\\“\\”\\‘\\’\\?\\;]+)(kiñci|kāci|keci)([^\\.\\'\\\"\\“\\”\\‘\\’\\?]+)sabb[aā]([^\\:\\.\\'\\\"\\“\\”\\‘\\’\\?]+))(?:[\\:\\.\\'\\\"\\“\\”\\‘\\’\\?])\"\n",
    "#formula_reg = r\"((ya|yā|ye)([^\\.\\'\\\"\\“\\”\\‘\\’\\?\\;]+)(ki[ñnñ]ci|kāci|keci)([^\\.\\'\\\"\\“\\”\\‘\\’\\?]+)(sabb[aā] |taṃ )([^\\:\\.\\'\\\"\\“\\”\\‘\\’\\?]+))(?:[\\:\\.\\'\\\"\\“\\”\\‘\\’\\?])\"\n",
    "\n",
    "yam_kinci_query = QueryRegex(\n",
    "    r\"((ya|yā|ye)([^\\.\\'\\\"\\“\\”\\‘\\’\\?\\;]+)(ki[ñnñ]ci|kāci|keci)([^\\.\\'\\\"\\“\\”\\‘\\’\\?]+)(sabb[aā] |taṃ )([^\\:\\.\\'\\\"\\“\\”\\‘\\’\\?]+))(?:[\\:\\.\\'\\\"\\“\\”\\‘\\’\\?])\",\n",
    "    group_map={1: '*'}\n",
    ")\n",
    "\n",
    "results = corpus.search(yam_kinci_query)\n",
    "\n",
    "selection = results.subset(\"[adms]n[0-9]\")\n",
    "\n",
    "print(selection.get_all_docids())"
   ]
  },
  {
   "cell_type": "code",
   "execution_count": null,
   "metadata": {
    "collapsed": true
   },
   "outputs": [],
   "source": [
    "with open(\"output/test_yam-kinci-regex.md\", \"w\") as ofile:\n",
    "    ofile.write(result_markdown_formater(formula_query, sorted(results_formula, key=lambda d : d['doc_id'])))"
   ]
  },
  {
   "cell_type": "code",
   "execution_count": null,
   "metadata": {
    "collapsed": false
   },
   "outputs": [],
   "source": [
    "re.match(\"bn\", \"an56\")"
   ]
  },
  {
   "cell_type": "code",
   "execution_count": null,
   "metadata": {
    "collapsed": false
   },
   "outputs": [],
   "source": [
    "a = [1]\n",
    "a.extend(None)"
   ]
  },
  {
   "cell_type": "code",
   "execution_count": null,
   "metadata": {
    "collapsed": true
   },
   "outputs": [],
   "source": []
  }
 ],
 "metadata": {
  "anaconda-cloud": {},
  "kernelspec": {
   "display_name": "Python [conda env:datayana]",
   "language": "python",
   "name": "conda-env-datayana-py"
  },
  "language_info": {
   "codemirror_mode": {
    "name": "ipython",
    "version": 3
   },
   "file_extension": ".py",
   "mimetype": "text/x-python",
   "name": "python",
   "nbconvert_exporter": "python",
   "pygments_lexer": "ipython3",
   "version": "3.6.2"
  }
 },
 "nbformat": 4,
 "nbformat_minor": 1
}
